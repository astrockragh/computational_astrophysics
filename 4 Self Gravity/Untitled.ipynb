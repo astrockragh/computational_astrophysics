{
 "cells": [
  {
   "cell_type": "code",
   "execution_count": 2,
   "metadata": {},
   "outputs": [],
   "source": [
    "import numpy as np\n",
    "n=2\n",
    "n=(2*n,2*n,2*n)\n",
    "nn=np.array(n)\n",
    "nm = [];  nm.append(np.copy(nn))"
   ]
  },
  {
   "cell_type": "code",
   "execution_count": 21,
   "metadata": {},
   "outputs": [],
   "source": [
    "grid=np.random.random(size=n)"
   ]
  },
  {
   "cell_type": "code",
   "execution_count": 22,
   "metadata": {},
   "outputs": [
    {
     "data": {
      "text/plain": [
       "((2, 2, 2), array([[[0.18696264, 0.76979125],\n",
       "         [0.18066043, 0.76617014]],\n",
       " \n",
       "        [[0.87867704, 0.40158723],\n",
       "         [0.91124306, 0.28772463]]]))"
      ]
     },
     "execution_count": 22,
     "metadata": {},
     "output_type": "execute_result"
    }
   ],
   "source": [
    "gridtest=grid[::2,::2,::2]\n",
    "gridtest.shape, gridtest"
   ]
  },
  {
   "cell_type": "code",
   "execution_count": 23,
   "metadata": {},
   "outputs": [],
   "source": [
    "f_coarse=gridtest\n",
    "n = np.array(np.shape(f_coarse))\n",
    "n = tuple([2*x for x in n])\n",
    "f_fine=np.zeros(n)\n",
    "f_fine[::2,::2,::2]=f_coarse\n",
    "f_fine1=np.copy(f_fine)\n",
    "# f_fine[::2]=np.where(f_fine==0, 1/2*(np.roll(f_fine,1, axis=0)+ np.roll(f_fine,-1, axis=0)))"
   ]
  },
  {
   "cell_type": "code",
   "execution_count": 5,
   "metadata": {},
   "outputs": [],
   "source": [
    "f_fine1[::2, ::2, :]=np.where(f_fine1[::2, ::2, :]==0,\\\n",
    "         1/2*(np.roll(f_fine1[::2, ::2, :],1, axis=2)+ np.roll(f_fine1[::2, ::2, :],-1, axis=2)), f_fine1[::2, ::2, :])\n",
    "f_fine1[::2, :, :]=np.where(f_fine1[::2, :, :]==0,\\\n",
    "         1/2*(np.roll(f_fine1[::2, :, :],1, axis=1)+ np.roll(f_fine1[::2, :, :],-1, axis=1)), f_fine1[::2, :, :])\n",
    "f_fine1=np.where(f_fine1[:, :, :]==0,\\\n",
    "         1/2*(np.roll(f_fine1[:, :, :],1, axis=0)+ np.roll(f_fine1[:, :, :],-1, axis=0)), f_fine1[:, :, :])"
   ]
  },
  {
   "cell_type": "code",
   "execution_count": 6,
   "metadata": {},
   "outputs": [
    {
     "data": {
      "text/plain": [
       "(array([[[0.26027459, 0.45854251, 0.65681043, 0.45854251],\n",
       "         [0.20498047, 0.38138888, 0.55779728, 0.38138888],\n",
       "         [0.14968635, 0.30423524, 0.45878414, 0.30423524],\n",
       "         [0.20498047, 0.38138888, 0.55779728, 0.38138888]],\n",
       " \n",
       "        [[0.19284454, 0.39624093, 0.59963733, 0.39624093],\n",
       "         [0.19402523, 0.39532794, 0.59663065, 0.39532794],\n",
       "         [0.19520592, 0.39441495, 0.59362397, 0.39441495],\n",
       "         [0.19402523, 0.39532794, 0.59663065, 0.39532794]],\n",
       " \n",
       "        [[0.12541449, 0.33393935, 0.54246422, 0.33393935],\n",
       "         [0.18306999, 0.409267  , 0.63546401, 0.409267  ],\n",
       "         [0.24072549, 0.48459465, 0.72846381, 0.48459465],\n",
       "         [0.18306999, 0.409267  , 0.63546401, 0.409267  ]],\n",
       " \n",
       "        [[0.19284454, 0.39624093, 0.59963733, 0.39624093],\n",
       "         [0.19402523, 0.39532794, 0.59663065, 0.39532794],\n",
       "         [0.19520592, 0.39441495, 0.59362397, 0.39441495],\n",
       "         [0.19402523, 0.39532794, 0.59663065, 0.39532794]]]),\n",
       " array([[[0.26027459, 0.65681043],\n",
       "         [0.14968635, 0.45878414]],\n",
       " \n",
       "        [[0.12541449, 0.54246422],\n",
       "         [0.24072549, 0.72846381]]]))"
      ]
     },
     "execution_count": 6,
     "metadata": {},
     "output_type": "execute_result"
    }
   ],
   "source": [
    "f_fine1, f_coarse"
   ]
  },
  {
   "cell_type": "code",
   "execution_count": 4,
   "metadata": {},
   "outputs": [],
   "source": [
    "import matplotlib.pyplot as plt\n",
    "# plt.imshow(f_fine1[0])"
   ]
  },
  {
   "cell_type": "code",
   "execution_count": 8,
   "metadata": {},
   "outputs": [
    {
     "data": {
      "text/plain": [
       "<matplotlib.image.AxesImage at 0x7f1a95491510>"
      ]
     },
     "execution_count": 8,
     "metadata": {},
     "output_type": "execute_result"
    },
    {
     "data": {
      "image/png": "[encoded data removed]",
      "text/plain": [
       "<Figure size 432x288 with 1 Axes>"
      ]
     },
     "metadata": {
      "needs_background": "light"
     },
     "output_type": "display_data"
    }
   ],
   "source": [
    "plt.imshow(f_coarse[0])"
   ]
  },
  {
   "cell_type": "code",
   "execution_count": 9,
   "metadata": {},
   "outputs": [
    {
     "data": {
      "text/plain": [
       "array([[[0.26027459, 0.45854251, 0.65681043, 0.45854251],\n",
       "        [0.20498047, 0.38138888, 0.55779728, 0.38138888],\n",
       "        [0.14968635, 0.30423524, 0.45878414, 0.30423524],\n",
       "        [0.20498047, 0.38138888, 0.55779728, 0.38138888]],\n",
       "\n",
       "       [[0.19284454, 0.39624093, 0.59963733, 0.39624093],\n",
       "        [0.19402523, 0.39532794, 0.59663065, 0.39532794],\n",
       "        [0.19520592, 0.39441495, 0.59362397, 0.39441495],\n",
       "        [0.19402523, 0.39532794, 0.59663065, 0.39532794]],\n",
       "\n",
       "       [[0.12541449, 0.33393935, 0.54246422, 0.33393935],\n",
       "        [0.18306999, 0.409267  , 0.63546401, 0.409267  ],\n",
       "        [0.24072549, 0.48459465, 0.72846381, 0.48459465],\n",
       "        [0.18306999, 0.409267  , 0.63546401, 0.409267  ]],\n",
       "\n",
       "       [[0.19284454, 0.39624093, 0.59963733, 0.39624093],\n",
       "        [0.19402523, 0.39532794, 0.59663065, 0.39532794],\n",
       "        [0.19520592, 0.39441495, 0.59362397, 0.39441495],\n",
       "        [0.19402523, 0.39532794, 0.59663065, 0.39532794]]])"
      ]
     },
     "execution_count": 9,
     "metadata": {},
     "output_type": "execute_result"
    }
   ],
   "source": [
    "f_fine1"
   ]
  },
  {
   "cell_type": "code",
   "execution_count": 10,
   "metadata": {},
   "outputs": [
    {
     "data": {
      "text/plain": [
       "array([[[0.26027459, 0.45854251, 0.65681043, 0.45854251],\n",
       "        [0.14968635, 0.30423524, 0.45878414, 0.30423524]],\n",
       "\n",
       "       [[0.12541449, 0.33393935, 0.54246422, 0.33393935],\n",
       "        [0.24072549, 0.48459465, 0.72846381, 0.48459465]]])"
      ]
     },
     "execution_count": 10,
     "metadata": {},
     "output_type": "execute_result"
    }
   ],
   "source": [
    "f_fine1[::2, ::2, :]"
   ]
  },
  {
   "cell_type": "code",
   "execution_count": 11,
   "metadata": {},
   "outputs": [
    {
     "data": {
      "text/plain": [
       "array([[[0.26027459, 0.1528475 , 0.65681043, 0.1528475 ],\n",
       "        [0.06832682, 0.        , 0.18593243, 0.        ],\n",
       "        [0.14968635, 0.10141175, 0.45878414, 0.10141175],\n",
       "        [0.06832682, 0.        , 0.18593243, 0.        ]],\n",
       "\n",
       "       [[0.06428151, 0.        , 0.19987911, 0.        ],\n",
       "        [0.        , 0.        , 0.        , 0.        ],\n",
       "        [0.06506864, 0.        , 0.19787466, 0.        ],\n",
       "        [0.        , 0.        , 0.        , 0.        ]],\n",
       "\n",
       "       [[0.12541449, 0.11131312, 0.54246422, 0.11131312],\n",
       "        [0.06102333, 0.        , 0.21182134, 0.        ],\n",
       "        [0.24072549, 0.16153155, 0.72846381, 0.16153155],\n",
       "        [0.06102333, 0.        , 0.21182134, 0.        ]],\n",
       "\n",
       "       [[0.06428151, 0.        , 0.19987911, 0.        ],\n",
       "        [0.        , 0.        , 0.        , 0.        ],\n",
       "        [0.06506864, 0.        , 0.19787466, 0.        ],\n",
       "        [0.        , 0.        , 0.        , 0.        ]]])"
      ]
     },
     "execution_count": 11,
     "metadata": {},
     "output_type": "execute_result"
    }
   ],
   "source": [
    "def prolong(f_coarse,level):\n",
    "    \"\"\" prolong solution to finer level by copy for every second point and average for every second point \"\"\"\n",
    "    if level==0:\n",
    "        ...\n",
    "    if level>0:\n",
    "        n = np.array(np.shape(f_coarse))\n",
    "        n = tuple([2*x for x in n])\n",
    "        f_fine=np.zeros(n)\n",
    "        f_fine[::2,::2,::2]=f_coarse\n",
    "        f_fine=np.where(f_fine==0, 1/6*(np.roll(f_fine,1, axis=0)+ np.roll(f_fine,-1, axis=0)+\\\n",
    "                                         np.roll(f_fine,1, axis=1)+ np.roll(f_fine,-1, axis=1)+\\\n",
    "                                         np.roll(f_fine,1, axis=2)+ np.roll(f_fine,-1, axis=2)),f_fine)\n",
    "    return f_fine\n",
    "prolong(gridtest, 2)"
   ]
  },
  {
   "cell_type": "code",
   "execution_count": 38,
   "metadata": {},
   "outputs": [],
   "source": [
    "def prolong(f_coarse,level):\n",
    "        \"\"\" prolong solution to finer level by copy for every second point and average for every second point \"\"\"\n",
    "        if level==0:\n",
    "            plt.imshow(f_coarse)\n",
    "            print('Reached finest level')\n",
    "        if level>0:\n",
    "            n = np.array(np.shape(f_coarse))\n",
    "            n = tuple([2*x for x in n])\n",
    "            f_fine=np.zeros(n)\n",
    "            f_fine[::2,::2,::2]=f_coarse\n",
    "            f_fine[::2, ::2, :]=np.where(f_fine[::2, ::2, :]==0,\\\n",
    "                     1/2*(np.roll(f_fine[::2, ::2, :],1, axis=2)+ np.roll(f_fine[::2, ::2, :],-1, axis=2)), f_fine[::2, ::2, :])\n",
    "            f_fine[::2, :, :]=np.where(f_fine[::2, :, :]==0,\\\n",
    "                     1/2*(np.roll(f_fine[::2, :, :],1, axis=1)+ np.roll(f_fine[::2, :, :],-1, axis=1)), f_fine[::2, :, :])\n",
    "            f_fine=np.where(f_fine[:, :, :]==0,\\\n",
    "                     1/2*(np.roll(f_fine[:, :, :],1, axis=0)+ np.roll(f_fine[:, :, :],-1, axis=0)), f_fine[:, :, :])\n",
    "        return f_fine"
   ]
  },
  {
   "cell_type": "code",
   "execution_count": 51,
   "metadata": {},
   "outputs": [],
   "source": [
    "f_fine1=np.random.random(size=n)"
   ]
  },
  {
   "cell_type": "code",
   "execution_count": 61,
   "metadata": {},
   "outputs": [
    {
     "name": "stdout",
     "output_type": "stream",
     "text": [
      "(512, 512, 512)\n"
     ]
    },
    {
     "data": {
      "text/plain": [
       "<matplotlib.image.AxesImage at 0x7f46009684d0>"
      ]
     },
     "execution_count": 61,
     "metadata": {},
     "output_type": "execute_result"
    },
    {
     "data": {
      "image/png": "[encoded data removed]",
      "text/plain": [
       "<Figure size 432x288 with 1 Axes>"
      ]
     },
     "metadata": {
      "needs_background": "light"
     },
     "output_type": "display_data"
    }
   ],
   "source": [
    "f_fine1=prolong(f_fine1, 2)\n",
    "print(f_fine1.shape)\n",
    "plt.imshow(f_fine1[:,:,0])"
   ]
  },
  {
   "cell_type": "code",
   "execution_count": 55,
   "metadata": {},
   "outputs": [
    {
     "data": {
      "text/plain": [
       "(3, 8, 8)"
      ]
     },
     "execution_count": 55,
     "metadata": {},
     "output_type": "execute_result"
    }
   ],
   "source": [
    "f_fine1[2::2].shape"
   ]
  }
 ],
 "metadata": {
  "kernelspec": {
   "display_name": "Python 3",
   "language": "python",
   "name": "python3"
  },
  "language_info": {
   "codemirror_mode": {
    "name": "ipython",
    "version": 3
   },
   "file_extension": ".py",
   "mimetype": "text/x-python",
   "name": "python",
   "nbconvert_exporter": "python",
   "pygments_lexer": "ipython3",
   "version": "3.7.6"
  }
 },
 "nbformat": 4,
 "nbformat_minor": 4
}
