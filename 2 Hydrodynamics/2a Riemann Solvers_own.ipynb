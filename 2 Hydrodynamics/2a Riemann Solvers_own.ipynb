{
 "cells": [
  {
   "cell_type": "markdown",
   "metadata": {},
   "source": [
    "# 2a. Riemann Solvers (Bodenheimer et al, chapter 6.3.3)"
   ]
  },
  {
   "cell_type": "markdown",
   "metadata": {},
   "source": [
    "At the end of exercise  __1d__ last week we learned how to advect material. Advection is a central property of all Eularian numerical schemes. E.g. methods where quantities are described by a fixed grid, but material is being transported, and evolves, in the background grid. In this exercise we will generalise this setup from advection to hydrodynamics."
   ]
  },
  {
   "cell_type": "code",
   "execution_count": 104,
   "metadata": {},
   "outputs": [],
   "source": [
    "import numpy as np\n",
    "import matplotlib.pyplot as plt"
   ]
  },
  {
   "cell_type": "markdown",
   "metadata": {},
   "source": [
    "### Hydrodynamics\n",
    "The equations of hydrodynamics are\n",
    "\\begin{align}\n",
    "\\partial_t \\rho + \\mathbf{\\nabla} \\cdot [\\rho\\,\\mathbf{v}] & = 0 \\\\\n",
    "\\partial_t \\rho\\,\\mathbf{v} + \\mathbf{\\nabla} \\cdot [\\rho\\, \\mathbf{v}\\otimes\\mathbf{v} + P \\mathsf{I}] & = 0 \\\\\n",
    "\\partial_t E + \\mathbf{\\nabla} \\cdot [(E + P)\\, \\mathbf{v}] & = 0\\,,\n",
    "\\end{align}\n",
    "where $\\rho$ is density, $\\mathbf{v}$ is velocity, $P$ is pressure, and $E$ is the total energy density. $E = \\rho e + {1 \\over 2} \\rho v^2$, and $e$ is the internal energy per mass. This is complemented by an equation of state $P = (\\gamma - 1)\\rho e$.\n",
    "\n",
    "This can also be written in the Lagranian form\n",
    "\\begin{align}\n",
    "\\partial_t \\rho & = - \\mathbf{v} \\cdot \\mathbf{\\nabla} \\rho\n",
    "- \\rho \\mathbf{\\nabla} \\cdot \\mathbf{v} \\\\\n",
    "\\partial_t \\mathbf{v} & = - (\\mathbf{v} \\cdot \\mathbf{\\nabla}) \\mathbf{v}\n",
    "- \\frac{1}{\\rho} \\mathbf{\\nabla} P  \\\\\n",
    "\\partial_t P &= - \\mathbf{v} \\cdot \\mathbf{\\nabla} P\n",
    "- \\gamma P \\mathbf{\\nabla} \\cdot \\mathbf{v}\\,,\n",
    "\\end{align}\n",
    "where the advective derivative ($-\\mathbf{v} \\cdot \\mathbf{\\nabla}$) is explicit.\n",
    "\n",
    "In the special case where the temperature is constant the equations simplify to\n",
    "\\begin{align}\n",
    "\\partial_t \\rho + \\mathbf{\\nabla} \\cdot [\\rho\\,\\mathbf{v}] & = 0 \\\\\n",
    "\\partial_t \\rho\\,\\mathbf{v} + \\mathbf{\\nabla} \\cdot [\\rho\\, \\mathbf{v}\\otimes\\mathbf{v} + P \\mathsf{I}] & = 0\n",
    "\\end{align}\n",
    "and $P = c_s^2 \\rho$, where $c_s^2 = k_b T / \\mu m_p$ is the isothermal sound speed. To keep it simlpe, we will start by considering at isothermal hydrodynamics. You will the yourselves add the energy equation."
   ]
  },
  {
   "cell_type": "markdown",
   "metadata": {},
   "source": [
    "### MUSCL Method for time updates\n",
    "To simplfy the equations we will write the system in vector notation with a _state vector_ $U$, and a _flux vector_ $F$, and assume we have one dimension. Then\n",
    "\\begin{align}\n",
    "U &= (\\rho, \\rho u) \\\\\n",
    "F &= (\\rho u, \\rho u u + P) \\\\\n",
    "\\partial_t U + \\partial_x F &= 0\n",
    "\\end{align}\n",
    "\n",
    "From last week's lecture slide we have the __master equation__ for solving the system:\n",
    "\\begin{equation}\n",
    "U(t + \\Delta t,x_{i-1/2}) - U(t,x_{i-1/2}) = \\frac{\\Delta t}{\\Delta x} \\left[ \\tilde F(t + {\\Delta t \\over 2},x_{i-1}) - \\tilde F(t + {\\Delta t \\over 2},x_{i}) \\right]\\,,\n",
    "\\end{equation}\n",
    "where the flux terms are integrals over the time step and the cell faces (that in 1D is just a point, but in 2D a line, and in 3D an area)\n",
    "\\begin{equation}\n",
    "\\tilde F(t + {\\Delta t \\over 2},x_{i}) = {1 \\over \\Delta t}\n",
    "\\int^{t + \\Delta t}_t \\textrm{d} t' F(t', U_I(t',x_i))\\,,\n",
    "\\end{equation}\n",
    "and $U_I$ are the point values of $U$ at the interface.\n",
    "\n",
    "The MUSCL method improves on Godunov method by approximating the time integral and assuming that we can make a slope interpolation for the values at the interface.\n",
    "The alogrithm goes as follows\n",
    "  1. From the state vector $U$ compute the _primitive_ variables q = ($\\rho$,$v$,$P$)\n",
    "  2. Compute a naive time evolution for the primitve variables at the center of the cell using an Euler step and the Lagranian hydro equations. E.g.\n",
    "\\begin{equation}\n",
    "\\Delta q_t = \\Delta t \\frac{\\textrm{d}q}{\\textrm{d}t}\n",
    "\\end{equation}\n",
    "  3. Compute the spatial slopes from center of cell to interface. Making the slopes monotonized (TVD) if needed. The slope accross a cell are $\\Delta q_x$.\n",
    "  4. Approximate $q(t+\\Delta/2, x\\pm\\Delta x/2) = q(t,x) + (\\Delta q_t \\pm \\Delta q_x) / 2$\n",
    "  5. Shift point of view from cells to interfaces and consider fluid variables on the _left_ and _right_ sides of _interfaces_.\n",
    "  6. Use an (approximate) Riemann solver to compute the fluxes.\n",
    "\n",
    "Here is the code corresponding to the algorithm. Notice how we use a _class_ to contain the experiment data and related functions, and help in readability. This makes it easy to extend the code with different variables and functions, if needed."
   ]
  },
  {
   "cell_type": "markdown",
   "metadata": {},
   "source": [
    "### Coordinates\n",
    "defining a coordinate vector may seem trivial, but it is important always to have a clear picture of _where_ different cell center and interface values are placed in memory. We have decided to use a so-called up-staggered coordinate system, because the interface to the right (or _up_) is placed in memory at the same position as the cell center values. We could as well have used a down-staggered coordinate system. It is a choice of conventions."
   ]
  },
  {
   "cell_type": "code",
   "execution_count": 105,
   "metadata": {},
   "outputs": [],
   "source": [
    "# Define a coordinate vector with coordinates at the midpoint of the cells.\n",
    "# Domain is 2pi in length and there are n cells.\n",
    "#\n",
    "# inter          inter\n",
    "# face   center  face\n",
    "#  |-------o-------|-------o-------|-------o-------|--- ... ----o----|\n",
    "# x=0    x=ds/2   x=ds  x=3/2ds  x=2ds  x=5/2ds  x=3ds  ...         x=2pi\n",
    "# x_0    x_1/2    x_1    x_3/2    x_2    x_5/2    x_3   ... x_n-1/2  x_n\n",
    "# Python array position for cell quantities\n",
    "#          0               1               2            ...    n-1\n",
    "#\n",
    "# Python array position for interface quantities\n",
    "# n-1              0               1               2    ...          n-1\n",
    "#\n",
    "def coordinates(n):\n",
    "    ds=2.0*np.pi/n\n",
    "    x=ds*(np.arange(n) + 0.5)\n",
    "    return ds,x"
   ]
  },
  {
   "cell_type": "markdown",
   "metadata": {},
   "source": [
    "### Derivatives and slope limiters"
   ]
  },
  {
   "cell_type": "code",
   "execution_count": 106,
   "metadata": {},
   "outputs": [],
   "source": [
    "# Compute a \"left slope\". Returns the slope at the cell interface between x_i-1/2 and x_i+1/2\n",
    "# at the index position i. Left slope is useful for computing slopes\n",
    "def left_slope(f,axis=0):\n",
    "    return (f-np.roll(f,1,axis))\n",
    "\n",
    "# Slopes are calculated at the grid center position\n",
    "# Four slopes are given:\n",
    "#   no_slope, Cen, MinMod, MonCen\n",
    "#############################################################\n",
    "# no_slope is zero everywhere producing the Upwind method\n",
    "def no_slope(f):\n",
    "    return f*0.\n",
    "\n",
    "# Centered derivative; e.g. no slope limiter. This is unstable!\n",
    "def Cen(f):\n",
    "    ls = left_slope(f) # left slope\n",
    "    rs=np.roll(ls,-1)  # roll down once (giving the slope to the right)\n",
    "    return (ls+rs)*0.5 # the average of the left and right slopes is simply the centered derivative (deriv(f))\n",
    "\n",
    "# MinMod slope limiter\n",
    "def MinMod(f):\n",
    "    ls = left_slope(f)                      # left slope\n",
    "    rs=np.roll(ls,-1)                       # right slope\n",
    "    sign = np.ones(ls.shape)                # start with making sign equal +1\n",
    "    sign[np.where(ls < 0.0)] -= 1.0         # where left slope is negative, make sign 0\n",
    "    sign[np.where(rs < 0.0)] -= 1.0         # if left *and* right slope are negative, sign is -1, if only right slope is negative, sign is 0\n",
    "    return np.minimum(abs(ls),abs(rs))*sign # return the smallest size of the two slopes with correct sign, but zero if they disagree about sign\n",
    "\n",
    "# MonCen slope limiter\n",
    "def MonCen(f):\n",
    "    ls = left_slope(f)                  # left slope\n",
    "    rs=np.roll(ls,-1)                   # right slope\n",
    "    cs=np.zeros(ls.shape)               # MonCen starts out as zero slope\n",
    "    w=np.where(ls*rs>0.0)               # Where both slopes agree in sign, we compute it\n",
    "    cs[w]=2.0*ls[w]*rs[w]/(ls[w]+rs[w]) # MonCen slope is the harmonic average of the left and right state\n",
    "    return cs"
   ]
  },
  {
   "cell_type": "markdown",
   "metadata": {},
   "source": [
    "### Hydro data and auxiliary conversion methods from conservative to primitive variables\n",
    "We will use a class to encapsulate all the functions we need to manipulate basic variables. Remember from exercise __1a__ how a class can contain both variables and functions, and that the first argument to a function always is the class itself. There is also a special class function \"\\_\\_init\\_\\_\" that populates the initial data for the class"
   ]
  },
  {
   "cell_type": "code",
   "execution_count": 107,
   "metadata": {},
   "outputs": [],
   "source": [
    "# Define an hydro state including all auxiliary scalars and coordinates in a class\n",
    "class hd():\n",
    "    def __init__(self,n,gamma=1.,cs=1.):\n",
    "        dx, x = coordinates(n)\n",
    "        self.n = n                             # number of points\n",
    "        self.dx = dx                           # cell size\n",
    "        self.x = x                             # coordinate axis\n",
    "        self.Lbox = n * dx                     # Box size\n",
    "        self.gamma = gamma                     # adiabatic index\n",
    "        self.cs = cs                           # sound speed, if isothermal\n",
    "        self.t = 0.                            # time\n",
    "        self.rho = np.ones(n)                  # density  \n",
    "        self.Px  = np.zeros(n)                 # momentum density\n",
    "\n",
    "#         I HAVE CHANGED THIS, CHECK WITH TROELS\n",
    "        if gamma != 1.:                        # non-isothermal\n",
    "            self.Etot = np.ones(n)             # total energy\n",
    "    # Compute velocity from state vector\n",
    "    def velocity(self):\n",
    "        \"\"\" Compute velocity from conservative variables \"\"\"\n",
    "        return self.Px / self.rho\n",
    "\n",
    "    # Compute pressure from state vector\n",
    "    def pressure(self):\n",
    "        \"\"\" Compute pressure from conservative variables \"\"\"\n",
    "        if (self.gamma==1.0):\n",
    "            P = self.cs**2 * self.rho\n",
    "        else:\n",
    "            Eint = self.Etot - 0.5 * self.Px**2 / self.rho \n",
    "            P = (self.gamma-1.)*Eint\n",
    "        return P\n",
    "\n",
    "    # compute sound speed\n",
    "    def sound_speed(self):\n",
    "        \"\"\" Sound speed for HD \"\"\"\n",
    "        # if gamma=1 gas is isothermal, and sound speed is a property\n",
    "        if (self.gamma==1.):\n",
    "            return self.cs\n",
    "        else:\n",
    "            P = self.pressure()\n",
    "            cs = np.sqrt(self.gamma*P/self.rho)\n",
    "            return cs\n",
    "\n",
    "    # Courant condition with default Courant number=0.2 for a fluid\n",
    "    # maximum propagation velocity is max(|v| + sound speed), where max is taken over all cells\n",
    "    def Courant(self,C=0.2):\n",
    "        \"\"\" Courant condition for HD \"\"\"\n",
    "        speed = abs(self.velocity())\n",
    "        dt = C * self.dx / np.max( speed + self.sound_speed())\n",
    "        return dt"
   ]
  },
  {
   "cell_type": "markdown",
   "metadata": {},
   "source": [
    "### Riemann Solvers\n",
    "First set up a two trivial functions for converting between the primitive variables $q = (\\rho, v, P)$ and conservative variables $U=(\\rho,\\rho v, E)$, where $E$ is the total energy, and for computing the corresponding hydrodynamical flux vector. Then use those to make two example approximate Rieman solvers _LLF_ and _HLL_ that compute the flux at an interface given a left and right state."
   ]
  },
  {
   "cell_type": "code",
   "execution_count": 125,
   "metadata": {},
   "outputs": [],
   "source": [
    "# encodes a state vector -- either of variables or a flux\n",
    "# initialize it as an empty class\n",
    "class void():\n",
    "    \"\"\" Empty class, used to create ad hoc objects \"\"\"\n",
    "    pass\n",
    "\n",
    "# Conservative variables computed from primitve variable\n",
    "def primitive_to_conservative(q):\n",
    "    U = void()\n",
    "    U.D  = q.D\n",
    "    U.mU = q.D*q.U\n",
    "    # We need an energy U.Etot = ...\n",
    "    #Need to check this\n",
    "    if q.gamma==1:\n",
    "        U.Etot = 1/2*q.D*q.U**2\n",
    "    else:\n",
    "        Eint = q.P / (q.gamma - 1.)\n",
    "        U.Etot = Eint + 0.5 * q.U**2 / q.D\n",
    "    return U\n",
    "\n",
    "\n",
    "# Hydro flux from conservative and primitive variables\n",
    "def Hydro_Flux(q,U):\n",
    "    F = void()\n",
    "    F.D  = U.mU\n",
    "    F.mU = U.mU * q.U + q.P\n",
    "    if q.gamma!=1:\n",
    "        F.Etot=(U.Etot+q.P)*q.U\n",
    "    return F"
   ]
  },
  {
   "cell_type": "code",
   "execution_count": 126,
   "metadata": {},
   "outputs": [],
   "source": [
    "# LLF is the most diffuse Riemann solver. But also the most stable.\n",
    "# ql = (density, velocity, pressure) = (D, U, P), qr are state vectors for the _primitive_ variables \n",
    "def LLF(ql,qr):\n",
    "    # sound speed for each side of interface (l==left, r==right)\n",
    "    c_left  = (ql.gamma*ql.P / ql.D)**0.5\n",
    "    c_right = (qr.gamma*qr.P / qr.D)**0.5\n",
    "    c_max = np.maximum(c_left,c_right)\n",
    "    \n",
    "    # maximum absolute wave speed for left and right state\n",
    "    cmax = np.maximum(np.abs(ql.U)+c_max,np.abs(qr.U)+c_max)\n",
    "    \n",
    "    # Hydro conservative variable\n",
    "    Ul = primitive_to_conservative(ql)\n",
    "    Ur = primitive_to_conservative(qr)\n",
    "\n",
    "    # Hydro fluxes\n",
    "    Fl = Hydro_Flux(ql,Ul)\n",
    "    Fr = Hydro_Flux(qr,Ur)\n",
    "\n",
    "    # LLF flux based on maximum wavespeed.\n",
    "    # The general form is \"(F_left + F_right - cmax*(U_right - U_left)) / 2\"\n",
    "    # where U is the state vector of the conserved variables\n",
    "    Flux = void()\n",
    "    Flux.D  = 0.5*(Fl.D  + Fr.D  - cmax*(Ur.D  - Ul.D))\n",
    "    Flux.mU = 0.5*(Fl.mU + Fr.mU - cmax*(Ur.mU - Ul.mU))\n",
    "    \n",
    "    #added this\n",
    "    Flux.Etot = 0.5*(Fl.Etot + Fr.Etot - cmax*(Ur.Etot - Ul.Etot))\n",
    "    \n",
    "    return Flux\n",
    "\n",
    "# HLL (Harten, Lax, van Leer) is a bit less diffuse. We compute individual wave speeds for each state\n",
    "# ql, qr are state vectors for the _primitive_ variables \n",
    "def HLL(ql,qr):\n",
    "    # sound speed for each side of interface (l==left, r==right)\n",
    "    c_left  = (ql.gamma*ql.P / ql.D)**0.5\n",
    "    c_right = (qr.gamma*qr.P / qr.D)**0.5\n",
    "    c_max = np.maximum(c_left,c_right)\n",
    "    \n",
    "    # maximum wave speeds to the left and right (guaranteed to have right sign)\n",
    "    SL = np.minimum(np.minimum(ql.U,qr.U)-c_max,0) # <= 0.\n",
    "    SR = np.maximum(np.maximum(ql.U,qr.U)+c_max,0) # >= 0.\n",
    "\n",
    "    # Hydro conservative variable\n",
    "    Ul = primitive_to_conservative(ql)\n",
    "    Ur = primitive_to_conservative(qr)\n",
    "\n",
    "    # Hydro fluxes\n",
    "    Fl = Hydro_Flux(ql,Ul)\n",
    "    Fr = Hydro_Flux(qr,Ur)\n",
    "\n",
    "    # HLL flux based on wavespeeds. If SL < 0 and SR > 0 then mix state appropriately\n",
    "    # The general form is \"(SR * F_left - SL * F_right + SL * SR *(U_right - U_left)) / (SR - SL)\"\n",
    "    # where U is the state vector of the conserved variables\n",
    "    Flux = void()\n",
    "    Flux.D  = (SR*Fl.D  - SL*Fr.D  + SL*SR*(Ur.D  - Ul.D )) / (SR - SL)\n",
    "    Flux.mU = (SR*Fl.mU - SL*Fr.mU + SL*SR*(Ur.mU - Ul.mU)) / (SR - SL)\n",
    "\n",
    "    #added this\n",
    "    \n",
    "    Flux.Etot =(SR*Fl.Etot - SL*Fr.Etot + SL*SR*(Ur.Etot - Ul.Etot)) / (SR - SL)\n",
    "\n",
    "    return Flux"
   ]
  },
  {
   "cell_type": "markdown",
   "metadata": {},
   "source": [
    "### MUSCL time update algorithm"
   ]
  },
  {
   "cell_type": "code",
   "execution_count": 132,
   "metadata": {},
   "outputs": [],
   "source": [
    "# Hydrodynamics solver based on MUSCL scheme\n",
    "def muscl(u,dt,Slope=MinMod,Riemann_Solver=HLL):\n",
    "    dtdx = dt / u.dx\n",
    "\n",
    "    # 1) Compute primitive variables at cell center (rho, v, P)\n",
    "    rho = u.rho\n",
    "    v   = u.velocity()\n",
    "    P   = u.pressure()\n",
    "\n",
    "    # 2) Compute slopes based on centered points\n",
    "    drho = Slope(rho)\n",
    "    dv   = Slope(v)\n",
    "    dP   = Slope(P)\n",
    "\n",
    "    # 3) Trace forward to find solution at [t+dt/2, x +- dx/2]\n",
    "    # Time evolution for source terms\n",
    "    rho_t = - v * drho - dv * rho\n",
    "    v_t   = - v * dv - dP / rho\n",
    "    P_t = -v*dP-u.gamma*P*dv \n",
    "    \n",
    "    # Here we need to compute time evolution for P\n",
    "    \n",
    "    # Spatial interpolation + time terms\n",
    "    # left state at t + dt/2 -- AS SEEN FROM THE INTERFACE\n",
    "    ql = void()\n",
    "    ql.gamma = u.gamma\n",
    "    ql.D = rho + 0.5*drho + 0.5*dtdx*rho_t\n",
    "    ql.U = v + 0.5 * dv + 0.5*dtdx*v_t\n",
    "    if u.gamma==1:\n",
    "        ql.P = u.cs**2 * ql.D\n",
    "    else:\n",
    "#         print(\"ql.P should not be computed but instead reconstructed like the rest if not isothermal\")\n",
    "        ql.P = P + 0.5 *dP + 0.5*dtdx*P_t\n",
    "    # Spatial interpolation + time terms\n",
    "    # right state at t + dt/2 -- AS SEEN FROM THE INTERFACE\n",
    "    qr = void()\n",
    "    qr.gamma = u.gamma\n",
    "    qr.D = rho - 0.5*drho + 0.5*dtdx*rho_t\n",
    "    qr.U = v - 0.5 * dv + 0.5*dtdx*v_t\n",
    "    if u.gamma==1:\n",
    "        qr.P = u.cs**2 * qr.D\n",
    "    else:\n",
    "#         print(\"qr.P should not be computed but instead reconstructed like the rest if not isothermal\")\n",
    "        qr.P = P - 0.5 *dP + 0.5*dtdx*P_t\n",
    "    # make sure that right state is centered correctly.\n",
    "    # Numerical index follow upstaggered interfaces\n",
    "    qr.D = np.roll(qr.D,-1)\n",
    "    qr.U = np.roll(qr.U,-1)\n",
    "    qr.P = np.roll(qr.P,-1)\n",
    "\n",
    "    # 4) Solve for flux based on interface values\n",
    "    Flux = Riemann_Solver(ql,qr)\n",
    "    \n",
    "    # 5) Update conserved variables.\n",
    "    #    From the cell center (at x_i) point of view:\n",
    "    #       * 1st term is the upstaggered value at the interface position x_i + dx/2\n",
    "    #       * 2nd term is the downstaggered value at the interface position x_i - dx/2. Therefore we roll.\n",
    "    u.rho += - dtdx * Flux.D  + dtdx * np.roll(Flux.D,1)\n",
    "    u.Px  += - dtdx * Flux.mU + dtdx * np.roll(Flux.mU,1)\n",
    "    # Update energy flux ...\n",
    "#     print(Flux.Etot)\n",
    "    u.Etot  += - dtdx * Flux.Etot + dtdx * np.roll(Flux.Etot,1)\n",
    "    return u"
   ]
  },
  {
   "cell_type": "markdown",
   "metadata": {},
   "source": [
    "### Initial condition\n",
    "Setup an initial condition for a sound wave traveling to the right"
   ]
  },
  {
   "cell_type": "code",
   "execution_count": 133,
   "metadata": {},
   "outputs": [],
   "source": [
    "# returns a simple Sine wave traveling at velocity v evaluated at time t\n",
    "def wave(x,v,t):\n",
    "    f=np.sin(x-v*t)\n",
    "    return f\n",
    "\n",
    "def initial_condition(u,eps=0.01,rho0=1.):\n",
    "        velocity = eps*u.cs*wave(u.x,0.,0.)     # velocity\n",
    "        u.rho = rho0*(1. + eps*wave(u.x,0.,0.)) # density for a sound wave with relative amplitude \"eps\"\n",
    "        u.Px = rho0*velocity                    # momentum density\n",
    "        # check if not an isothermal setup, and then compute the total energy\n",
    "        if u.gamma != 1.:\n",
    "            P = u.cs**2 * u.rho / u.gamma\n",
    "            Eint = P / (u.gamma - 1.)\n",
    "            u.Etot = Eint + 0.5 * u.Px**2 / u.rho\n"
   ]
  },
  {
   "cell_type": "markdown",
   "metadata": {},
   "source": [
    "### Time Evolution Loop"
   ]
  },
  {
   "cell_type": "code",
   "execution_count": 134,
   "metadata": {},
   "outputs": [],
   "source": [
    "# setup graphics\n",
    "def wide_fig(title='',s=''):\n",
    "    if title=='':\n",
    "        title='{}  Courant={:.2f}'.format(s,C)\n",
    "    plt.figure(figsize=(14,4))\n",
    "    plt.title(title);"
   ]
  },
  {
   "cell_type": "code",
   "execution_count": 156,
   "metadata": {},
   "outputs": [
    {
     "name": "stdout",
     "output_type": "stream",
     "text": [
      "Number of iterations : 1741\n",
      "Time                 : 31.41592653589793\n",
      "Resolution           : 64\n",
      "Periods advected     : 5\n"
     ]
    },
    {
     "data": {
      "image/png": "[encoded data removed]",
      "text/plain": [
       "<Figure size 1008x288 with 1 Axes>"
      ]
     },
     "metadata": {
      "needs_background": "light"
     },
     "output_type": "display_data"
    }
   ],
   "source": [
    "n = 64         # number of grid points\n",
    "C = 0.2        # Counrant number (<0.5 for stability)\n",
    "rho0 = 1.      # Average density\n",
    "gamma = 1.1     # Adiabatic index\n",
    "cs  = 1.       # Sound speed\n",
    "eps = 0.1 # relative amplitude of soundwave\n",
    "Slope=MonCen   # choose a slope\n",
    "Riemann_Solver=HLL #choose a Riemann solver LLF/HLL\n",
    "\n",
    "\n",
    "\n",
    "# set up exepriment with a soundwave initial condition\n",
    "u = hd(n,gamma=gamma,cs=cs)\n",
    "initial_condition(u,eps=eps,rho0=rho0)\n",
    "\n",
    "periods = 5  # number of periods to advect\n",
    "tend = periods*u.Lbox / u.cs # corresponding end time if wave moves with sound speed (cs)\n",
    "\n",
    "# calculate an approximate guess for the\n",
    "# number of iterations needed\n",
    "# dt ~ C * dx / cs, since cs is the soundspeed\n",
    "# 1.5 is a safety factor, given that the phase\n",
    "# velocity of the wave may limit the time step a bit\n",
    "nt = int(1.5 * tend / (C * u.dx / cs))\n",
    "\n",
    "wide_fig()\n",
    "plt.plot(u.x,u.rho - rho0,'--',label=r'initial $\\rho-\\rho_0$')\n",
    "plt.plot(u.x,rho0*u.velocity()/u.cs,'--',label=r'initial $\\rho_0 v(t_{0}) / c_s$')\n",
    "it = 0\n",
    "while(u.t < tend and it < nt):\n",
    "    dt=u.Courant(C) # get size of dt\n",
    "    if (u.t+dt > tend): # make sure we arrive at tend exactly\n",
    "        dt = tend - u.t\n",
    "\n",
    "    u = muscl(u,dt,Slope=Slope,Riemann_Solver=Riemann_Solver) # Evolve solution by dt\n",
    "    # increment time and iteration count\n",
    "    u.t += dt \n",
    "    it += 1\n",
    "# Plot the final density in orange\n",
    "plt.plot(u.x,u.rho-rho0,'-',label=r'$\\rho(t_{end}) - \\rho_0$')\n",
    "\n",
    "# Plot the corresponding velocity. Rescale with a factor of rho0 / u[\"cs\"] to make\n",
    "# it same amplitude as density (can be seen by e.g. dimensional analysis)\n",
    "plt.plot(u.x,rho0*u.velocity()/u.cs,'-',label=r'$\\rho_0 v(t_{end}) / c_s$')\n",
    "\n",
    "plt.legend();\n",
    "\n",
    "print(\"Number of iterations :\", it)\n",
    "print(\"Time                 :\", u.t)\n",
    "print(\"Resolution           :\", u.n)\n",
    "print(\"Periods advected     :\", periods)\n",
    "if (u.t < tend):\n",
    "    print(\"OBS hit maximum number of iterations, something may be broken.\")\n",
    "    print(\"nt   =\", nt)\n",
    "    print(\"t    =\", u.t)\n",
    "    print(\"tend =\", tend)"
   ]
  },
  {
   "cell_type": "code",
   "execution_count": 142,
   "metadata": {},
   "outputs": [
    {
     "name": "stdout",
     "output_type": "stream",
     "text": [
      "[0.98980545 0.98930534 0.98901589 0.98882194 0.98865827 0.98855712\n",
      " 0.98850144 0.98848755 0.98850455 0.98844091 0.98830051 0.98815017\n",
      " 0.98802341 0.98790158 0.98777426 0.98767404 0.98766766 0.987798\n",
      " 0.9882181  0.98924111 0.99085188 0.99248789 0.9938163  0.99490129\n",
      " 0.99584937 0.99647212 0.99679707 0.99710829 0.99746546 0.99775464\n",
      " 0.99748709 0.99620028 0.99519801 0.99601105 0.99818894 1.00096916\n",
      " 1.00449278 1.00867934 1.01331672 1.0183763  1.02366915 1.02902146\n",
      " 1.03421782 1.03890616 1.04267846 1.04520202 1.04641406 1.04663173\n",
      " 1.04640847 1.0457284  1.0440002  1.0407918  1.03604544 1.03009982\n",
      " 1.02354323 1.01700077 1.01097091 1.00575338 1.00145093 0.99801791\n",
      " 0.99533241 0.99326398 0.99170866 0.99058302]\n"
     ]
    }
   ],
   "source": [
    "print(np.sqrt(u.gamma*u.pressure()/u.rho))"
   ]
  },
  {
   "cell_type": "code",
   "execution_count": 144,
   "metadata": {},
   "outputs": [
    {
     "data": {
      "text/plain": [
       "array([0.98980545, 0.98930534, 0.98901589, 0.98882194, 0.98865827,\n",
       "       0.98855712, 0.98850144, 0.98848755, 0.98850455, 0.98844091,\n",
       "       0.98830051, 0.98815017, 0.98802341, 0.98790158, 0.98777426,\n",
       "       0.98767404, 0.98766766, 0.987798  , 0.9882181 , 0.98924111,\n",
       "       0.99085188, 0.99248789, 0.9938163 , 0.99490129, 0.99584937,\n",
       "       0.99647212, 0.99679707, 0.99710829, 0.99746546, 0.99775464,\n",
       "       0.99748709, 0.99620028, 0.99519801, 0.99601105, 0.99818894,\n",
       "       1.00096916, 1.00449278, 1.00867934, 1.01331672, 1.0183763 ,\n",
       "       1.02366915, 1.02902146, 1.03421782, 1.03890616, 1.04267846,\n",
       "       1.04520202, 1.04641406, 1.04663173, 1.04640847, 1.0457284 ,\n",
       "       1.0440002 , 1.0407918 , 1.03604544, 1.03009982, 1.02354323,\n",
       "       1.01700077, 1.01097091, 1.00575338, 1.00145093, 0.99801791,\n",
       "       0.99533241, 0.99326398, 0.99170866, 0.99058302])"
      ]
     },
     "execution_count": 144,
     "metadata": {},
     "output_type": "execute_result"
    }
   ],
   "source": [
    "u.sound_speed()"
   ]
  },
  {
   "cell_type": "markdown",
   "metadata": {},
   "source": [
    "### Tasks:"
   ]
  },
  {
   "cell_type": "markdown",
   "metadata": {},
   "source": [
    "In this exercise the learning objective is to understand the different steps in the MUSCL algorithm. We will use a simple sound wave as our setup, but the solver is general. Any other initial condition would work, such as a shock, as long as it is periodic. You are welcome to construct your own initial condition, and see what happens!\n",
    "\n",
    "To aid in understanding how it works you will\n",
    "  - extend it to include the total energy\n",
    "  - _experimentally_ test how well the sound speed is conserved (how will you do that?)\n",
    "  - relate to the physical problem of a hydrodynamical wave, by changing the parameters\n",
    "\n",
    "The tasks are:\n",
    "  1. Execute the notebook. Make a routine to measure the sound speed.\n",
    "  2. Extend the algorithm to include the energy equation. What is the sound speed now; why?\n",
    "  3. Change the amplitude to something larger. What happens; why?"
   ]
  },
  {
   "cell_type": "markdown",
   "metadata": {},
   "source": [
    "### __Absalon turn-in__"
   ]
  },
  {
   "cell_type": "markdown",
   "metadata": {},
   "source": [
    "Upload a notebook with answers to the tasks together with a pdf of the notebook."
   ]
  }
 ],
 "metadata": {
  "kernelspec": {
   "display_name": "Python 3",
   "language": "python",
   "name": "python3"
  },
  "language_info": {
   "codemirror_mode": {
    "name": "ipython",
    "version": 3
   },
   "file_extension": ".py",
   "mimetype": "text/x-python",
   "name": "python",
   "nbconvert_exporter": "python",
   "pygments_lexer": "ipython3",
   "version": "3.7.6"
  }
 },
 "nbformat": 4,
 "nbformat_minor": 4
}
