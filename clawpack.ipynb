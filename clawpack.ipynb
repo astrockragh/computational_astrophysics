{
 "cells": [
  {
   "cell_type": "code",
   "execution_count": 1,
   "metadata": {
    "ExecuteTime": {
     "end_time": "2021-01-18T11:43:42.717676Z",
     "start_time": "2021-01-18T11:43:38.323912Z"
    }
   },
   "outputs": [
    {
     "name": "stdout",
     "output_type": "stream",
     "text": [
      "Collecting clawpack\n",
      "  Downloading clawpack-5.7.1.tar.gz (5.8 MB)\n",
      "Note: you may need to restart the kernel to use updated packages.\n"
     ]
    },
    {
     "name": "stderr",
     "output_type": "stream",
     "text": [
      "ERROR: The tar file (C:\\Users\\chris\\AppData\\Local\\Temp\\pip-unpack-12gooiy4\\clawpack-5.7.1.tar.gz) has a file (C:\\Users\\chris\\AppData\\Local\\Temp\\pip-install-9z5bns5z\\clawpack\\pyclaw/development/point_wise_rs/pyWrapperForRiemannSolver/aux.npy) trying to install outside target directory (C:\\Users\\chris\\AppData\\Local\\Temp\\pip-install-9z5bns5z\\clawpack)\n"
     ]
    }
   ],
   "source": [
    "pip install clawpack"
   ]
  }
 ],
 "metadata": {
  "hide_input": false,
  "kernelspec": {
   "display_name": "Python 3",
   "language": "python",
   "name": "python3"
  },
  "language_info": {
   "codemirror_mode": {
    "name": "ipython",
    "version": 3
   },
   "file_extension": ".py",
   "mimetype": "text/x-python",
   "name": "python",
   "nbconvert_exporter": "python",
   "pygments_lexer": "ipython3",
   "version": "3.7.4"
  }
 },
 "nbformat": 4,
 "nbformat_minor": 4
}
