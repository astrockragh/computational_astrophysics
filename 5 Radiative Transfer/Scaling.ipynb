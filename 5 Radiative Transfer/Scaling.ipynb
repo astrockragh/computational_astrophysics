{
 "cells": [
  {
   "cell_type": "markdown",
   "metadata": {},
   "source": [
    "# Scaling"
   ]
  },
  {
   "cell_type": "markdown",
   "metadata": {},
   "source": [
    "The `scaling.py` package contains three objects; one giving CGS unit values of common constants, one giving MKS values, and one giving scaling units for an experiment, based on three input values.\n",
    "\n",
    "To view it, open the `scaling.py` file.  To use it, import the `scaling` method, and (optionally) one or more unit systems:"
   ]
  },
  {
   "cell_type": "code",
   "execution_count": null,
   "metadata": {},
   "outputs": [],
   "source": [
    "from scaling import scaling"
   ]
  },
  {
   "cell_type": "markdown",
   "metadata": {},
   "source": [
    "## Adopting a unit system and code scaling units"
   ]
  },
  {
   "cell_type": "markdown",
   "metadata": {},
   "source": [
    "For insterstellar medium (ISM) work one may want to use parsec, millions of year, and solar masses:"
   ]
  },
  {
   "cell_type": "code",
   "execution_count": null,
   "metadata": {},
   "outputs": [],
   "source": [
    "s = scaling(system='CGS',l='pc',t='Myr',m='Solar')\n",
    "print('The unit of density is',s.D,'in',s.system,'units')\n",
    "print('The unit of energy is',s.e,'in',s.system,'units')"
   ]
  },
  {
   "cell_type": "markdown",
   "metadata": {},
   "source": [
    "To express these code scaling units in some objects unit, do for example"
   ]
  },
  {
   "cell_type": "code",
   "execution_count": null,
   "metadata": {},
   "outputs": [],
   "source": [
    "from scaling import CGS\n",
    "s = scaling(system=CGS,l='pc',t='Myr',m=10*CGS.m_Sun)\n",
    "print('The unit of mass is {:.1f} solar masses'.format(s.m/CGS.m_Sun))"
   ]
  },
  {
   "cell_type": "markdown",
   "metadata": {},
   "source": [
    "One can give the `system` as either the class, or the class name:"
   ]
  },
  {
   "cell_type": "code",
   "execution_count": null,
   "metadata": {},
   "outputs": [],
   "source": [
    "s = scaling(system='CGS',l='pc',t='Myr',m='Solar')\n",
    "s = scaling(system=CGS,l='pc',t='Myr',m='Solar',verbose=2)"
   ]
  },
  {
   "cell_type": "markdown",
   "metadata": {},
   "source": [
    "# Use in codes"
   ]
  },
  {
   "cell_type": "markdown",
   "metadata": {},
   "source": [
    "See `radiation.py`for examples.  In general, whenever a conversion between CGS and code units is needed in the code, one has access to values such as `s.P` for pressure:"
   ]
  },
  {
   "cell_type": "code",
   "execution_count": null,
   "metadata": {},
   "outputs": [],
   "source": [
    "from scaling import scaling, CGS\n",
    "\n",
    "s = scaling(CGS,l='pc',t='Myr',m='Solar')\n",
    "print('The code unit of pressure is {:.3e} CGS units'.format(s.P))"
   ]
  },
  {
   "cell_type": "markdown",
   "metadata": {},
   "source": [
    "### Examples related to Bonnor-Ebert spheres"
   ]
  },
  {
   "cell_type": "code",
   "execution_count": null,
   "metadata": {},
   "outputs": [],
   "source": [
    "import numpy as np\n",
    "from numpy import sqrt, pi\n",
    "from scaling import scaling, CGS\n",
    "\n",
    "BEscaling = scaling(l=2e4*CGS.AU,v=CGS.kms,m=CGS.m_Sun,verbose=0)\n",
    "print('Unit of density          : {:.2e}'.format(BEscaling.D))\n",
    "print('Unit of H-number density : {:.2e}'.format(BEscaling.D/(BEscaling.mu*CGS.m_u)))\n",
    "print('Unit of temperature      : {:.2e}'.format(BEscaling.T))\n",
    "T_BE=10./BEscaling.T\n",
    "print('Cold ISM temperature     : {:.2e}'.format(T_BE))\n",
    "c_BE=sqrt(T_BE)\n",
    "c_BE_CGS=c_BE*BEscaling.v\n",
    "print('Cold ISM sound speed     : {:.2e}'.format(c_BE))\n",
    "x_BE=6.5\n",
    "M_BE=1.0\n",
    "D_0=(1.18*c_BE**3)**2/(M_BE**2*BEscaling.G**3)\n",
    "D_0_CGS=(1.18*c_BE_CGS**3)**2/((M_BE*CGS.m_Sun)**2*CGS.G**3)\n",
    "y_BE=14.1\n",
    "D_c=D_0*y_BE\n",
    "D_c_CGS=D_0_CGS*y_BE\n",
    "R_BE=x_BE/sqrt(4.*pi)*c_BE/(BEscaling.G*D_c)**0.5\n",
    "R_BE_CGS=x_BE/sqrt(4.*pi)*c_BE*BEscaling.v/(CGS.G*D_c*BEscaling.D)**0.5\n",
    "print('BE radius                : {:.2e}'.format(R_BE))\n",
    "print('BE radius (AU)           : {:.2e}'.format(R_BE_CGS/CGS.AU))\n",
    "print('BE central density       : {:.2e}'.format(D_c))\n",
    "print('BE central density (CGS) : {:.2e}'.format(D_c_CGS))\n",
    "print('BE number density (CGS)  : {:.2e}'.format(D_c*BEscaling.D/(BEscaling.mu*CGS.m_u)))\n",
    "print('BE number density (CGS)  : {:.2e}'.format(D_c_CGS/(CGS.mu*CGS.m_u)))"
   ]
  }
 ],
 "metadata": {
  "kernelspec": {
   "display_name": "Python 3",
   "language": "python",
   "name": "python3"
  },
  "language_info": {
   "codemirror_mode": {
    "name": "ipython",
    "version": 3
   },
   "file_extension": ".py",
   "mimetype": "text/x-python",
   "name": "python",
   "nbconvert_exporter": "python",
   "pygments_lexer": "ipython3",
   "version": "3.7.6"
  }
 },
 "nbformat": 4,
 "nbformat_minor": 4
}
