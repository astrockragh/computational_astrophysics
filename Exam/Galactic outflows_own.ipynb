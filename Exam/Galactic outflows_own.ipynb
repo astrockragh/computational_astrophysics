{
 "cells": [
  {
   "cell_type": "markdown",
   "metadata": {},
   "source": [
    "# Outflows from a piece of the galactic disk"
   ]
  },
  {
   "cell_type": "markdown",
   "metadata": {},
   "source": [
    "## Hydrodynamics\n",
    "The equations of hydrodynamics are\n",
    "\\begin{align}\n",
    "\\partial_t \\rho + \\mathbf{\\nabla} \\cdot [\\rho\\,\\mathbf{v}] & = 0 \\\\\n",
    "\\partial_t \\rho\\,\\mathbf{v} + \\mathbf{\\nabla} \\cdot [\\rho\\, \\mathbf{v}\\otimes\\mathbf{v} + P \\mathsf{I}] & = \\rho\\, \\mathbf{g} \\\\\n",
    "\\partial_t E + \\mathbf{\\nabla} \\cdot [(E + P)\\, \\mathbf{v}] & = \\rho\\, \\mathbf{v} \\cdot \\mathbf{g} \\,,\n",
    "\\end{align}\n",
    "where $\\rho$ is density, $\\mathbf{v}$ is velocity, $P$ is pressure, and $E$ is the total energy density, and $\\mathbf{g}$ is the gravitational acceleration from an external gravitational field. $E = \\rho e + {1 \\over 2} \\rho v^2$, and $e$ is the internal energy per mass. This is complemented by an equation of state $P = (\\gamma - 1)\\rho e$.\n",
    "\n",
    "This can also be written in the Lagranian form\n",
    "\\begin{align}\n",
    "\\partial_t \\rho & = - \\mathbf{v} \\cdot \\mathbf{\\nabla} \\rho\n",
    "- \\rho \\mathbf{\\nabla} \\cdot \\mathbf{v} \\\\\n",
    "\\partial_t \\mathbf{v} & = - (\\mathbf{v} \\cdot \\mathbf{\\nabla}) \\mathbf{v}\n",
    "- \\frac{1}{\\rho} \\mathbf{\\nabla} P + \\mathbf{g} \\\\\n",
    "\\partial_t P &= - \\mathbf{v} \\cdot \\mathbf{\\nabla} P\n",
    "- \\gamma P \\mathbf{\\nabla} \\cdot \\mathbf{v}\\,,\n",
    "\\end{align}\n",
    "where the advective derivative ($-\\mathbf{v} \\cdot \\mathbf{\\nabla}$) is explicit."
   ]
  },
  {
   "cell_type": "markdown",
   "metadata": {},
   "source": [
    "### Standard libaries"
   ]
  },
  {
   "cell_type": "code",
   "execution_count": 43,
   "metadata": {},
   "outputs": [],
   "source": [
    "import numpy as np\n",
    "import matplotlib.pyplot as plt\n",
    "from time import time\n",
    "np.seterr(all='raise',under='ignore'); # this option makes the code crash if encountering divide-by-zero, overflow or other floating point errors, but ignores underflow"
   ]
  },
  {
   "cell_type": "markdown",
   "metadata": {},
   "source": [
    "## Using a Python class to store things\n",
    "We start by defining a class `hd`, with things we will need for 2-D hydrodynamics."
   ]
  },
  {
   "cell_type": "code",
   "execution_count": 44,
   "metadata": {},
   "outputs": [],
   "source": [
    "class void():\n",
    "    \"\"\" Empty class, used to create ad hoc objects \"\"\"\n",
    "    pass\n",
    "\n",
    "class hd():\n",
    "    \"\"\" Template class for hydrodynamics, with parameters, variables and methods \"\"\"\n",
    "    def __init__(self,n=64,gamma=1.4,Lbox=1.):\n",
    "        \"\"\" Initialization of arrays for conservative variables \"\"\"\n",
    "        self.t=0\n",
    "        self.n=n\n",
    "        self.gamma = gamma\n",
    "        self.rho   = np.ones((n,n))\n",
    "        self.Etot  = np.ones((n,n))\n",
    "        self.Px    = np.zeros((n,n)) #momentum in x\n",
    "        self.Py    = np.zeros((n,n)) #momentum in y\n",
    "        self.coordinates(Lbox=Lbox)\n",
    "    \n",
    "    def coordinates(self,Lbox=1.):\n",
    "        \"\"\" Coordinate initialization \"\"\"\n",
    "        n = self.n\n",
    "        self.ds = Lbox/n\n",
    "        self.dx = self.ds\n",
    "        self.Lbox = n*self.ds # Make sure n, ds, and Lbox correspond exactly to roundoff\n",
    "        self.x = self.ds*(np.arange(n)-n/2+0.5)\n",
    "        self.y = np.copy(self.x)\n",
    "        self.r = np.zeros((n,n))\n",
    "        for i in range(n):\n",
    "            self.r[i] = (self.y**2 + self.x[i]**2)**0.5\n",
    "\n",
    "    def velocity(self):\n",
    "        \"\"\" Compute velocity from conservative variables and return in (2,n,n) array \"\"\"\n",
    "        return np.array([self.Px/self.rho, self.Py/self.rho])\n",
    "\n",
    "    def pressure(self):\n",
    "        \"\"\" Compute pressure from conservative variables \"\"\"\n",
    "        if (self.gamma==1.0):\n",
    "            P = self.cs**2 * self.rho\n",
    "        else:\n",
    "            Eint = self.Etot - 0.5*(self.Px**2 + self.Py**2)/self.rho \n",
    "            P = (self.gamma-1.)*Eint\n",
    "        return P\n",
    "\n",
    "    def temperature(self):\n",
    "        \"\"\" Compute the 'temperature', defined as P/rho = kB / mu T \"\"\"\n",
    "        return self.pressure() / self.rho\n",
    "    \n",
    "    def Courant(self,C=0.5):\n",
    "        \"\"\" Courant condition for HD \"\"\"\n",
    "        v = self.velocity()\n",
    "        speed = np.sqrt(v[0]**2 + v[1]**2)\n",
    "        cs = np.sqrt(self.gamma*self.pressure()/self.rho)\n",
    "        return C*self.ds/np.max(cs+speed)"
   ]
  },
  {
   "cell_type": "markdown",
   "metadata": {},
   "source": [
    "## Riemann Solvers"
   ]
  },
  {
   "cell_type": "markdown",
   "metadata": {},
   "source": [
    "Riemann solvers are used to compute the fluxes that pass mass, momentum, and energy from cell to cell.  When working in two dimensions, we need to treat the interfaces on all four sides of each cell, with differences between _left_ and _right_, and _bottom_ and _top_ controlling the changes of conserved quantities."
   ]
  },
  {
   "cell_type": "markdown",
   "metadata": {},
   "source": [
    "### HLL (Harten, Lax, van Leer) fluxes"
   ]
  },
  {
   "cell_type": "code",
   "execution_count": 45,
   "metadata": {},
   "outputs": [],
   "source": [
    "# Conservative variables computed from primitve variable\n",
    "def primitive_to_conservative(q):\n",
    "    U = void()\n",
    "    U.D  = q.D\n",
    "    U.mU = q.D*q.U\n",
    "    U.mV = q.D*q.V\n",
    "    U.Etot = q.P / (q.gamma-1.0) + 0.5*q.D*(q.U**2 + q.V**2)\n",
    "    return U\n",
    "\n",
    "# Hydro flux from conservative and primitive variables\n",
    "def Hydro_Flux(q,U):\n",
    "    F = void()\n",
    "    F.D = U.mU\n",
    "    F.mU = U.mU*q.U + q.P\n",
    "    F.mV = U.mV*q.U\n",
    "    F.Etot = q.U*(U.Etot + q.P)\n",
    "    return F\n",
    "\n",
    "def HLL(ql,qr):\n",
    "    # The first part is the same as for LLF, so just use copy & paste to fill that in:\n",
    "    # sound speed for each side of interface (l==left, r==right)\n",
    "    c_left  = (ql.gamma*ql.P / ql.D)**0.5\n",
    "    c_right = (qr.gamma*qr.P / qr.D)**0.5\n",
    "    c_max = np.maximum(c_left,c_right)\n",
    "\n",
    "    # maximum wave speeds to the left and right (guaranteed to have correct sign)\n",
    "    SL = np.minimum(np.minimum(ql.U,qr.U)-c_max,0) # <= 0.\n",
    "    SR = np.maximum(np.maximum(ql.U,qr.U)+c_max,0) # >= 0.\n",
    "    \n",
    "    # Hydro conservative variable\n",
    "    Ul = primitive_to_conservative(ql)\n",
    "    Ur = primitive_to_conservative(qr)\n",
    "\n",
    "    # Hydro fluxes\n",
    "    Fl = Hydro_Flux(ql,Ul)\n",
    "    Fr = Hydro_Flux(qr,Ur)\n",
    "\n",
    "    # HLL flux based on wavespeeds.  The general form is \n",
    "    #    (SR*F_left - SL*F_right + SL*SR *(u_right - u_left))/(SR-SL)\n",
    "    # where U = (rho, rho*v, E_tot) are the conserved variables\n",
    "    Flux = void()\n",
    "    Flux.D  = (SR*Fl.D  - SL*Fr.D  + SL*SR*(Ur.D  - Ul.D )) / (SR - SL)\n",
    "    Flux.mU = (SR*Fl.mU - SL*Fr.mU + SL*SR*(Ur.mU - Ul.mU)) / (SR - SL)\n",
    "    Flux.mV = (SR*Fl.mV - SL*Fr.mV + SL*SR*(Ur.mV - Ul.mV)) / (SR - SL)\n",
    "    Flux.Etot = (SR*Fl.Etot - SL*Fr.Etot + SL*SR*(Ur.Etot - Ul.Etot)) / (SR - SL)\n",
    "\n",
    "    return Flux"
   ]
  },
  {
   "cell_type": "markdown",
   "metadata": {},
   "source": [
    "### Slope limiter\n",
    "Monotonized Central (MonCen) slope limiter.  In two dimensions, return the  slopes in both directions, with shape (2,n,n)"
   ]
  },
  {
   "cell_type": "code",
   "execution_count": 46,
   "metadata": {},
   "outputs": [],
   "source": [
    "def left_slope(f,axis=0):\n",
    "    return (f-np.roll(f,1,axis))\n",
    "\n",
    "def MonCen(f):\n",
    "    \"\"\" Monotonized central slope limiter \"\"\"\n",
    "    shape=np.insert(f.shape,0,f.ndim)\n",
    "    slopes=np.zeros(shape)\n",
    "    for i in range(f.ndim):\n",
    "        ls=left_slope(f,axis=i)\n",
    "        rs=np.roll(ls,-1,axis=i)\n",
    "        cs=np.zeros(f.shape)\n",
    "        w=np.where(ls*rs>0.0)\n",
    "        cs[w]=2.0*ls[w]*rs[w]/(ls[w]+rs[w])\n",
    "        slopes[i]=cs\n",
    "    return slopes"
   ]
  },
  {
   "cell_type": "markdown",
   "metadata": {},
   "source": [
    "### MUSCL method\n",
    "This is the core routine for solving hydrodynamics in one timestep. In the routine we have six steps:\n",
    "  * 0) + 7) (operator split) source term for external gravitational potential add before and after the hydro fluxes to make it second order\n",
    "  * 1) Primitive variables from conserved variables\n",
    "  * 2) Slopes used for interpolation from cell center to cell interface and for time prediction\n",
    "  * 3) Forward trace in time to find solution at t + dt/2\n",
    "  * 4) + 5) Construction of \"Left\" and \"Right\" states for the cell interfaces\n",
    "  * 6) Call to Riemann solver (HLL) to compute the fluxes for hydrodynamics and update of conserved variables"
   ]
  },
  {
   "cell_type": "code",
   "execution_count": 47,
   "metadata": {},
   "outputs": [],
   "source": [
    "def Source_cooling(u):\n",
    "    \"\"\" Add cooling / heating here \"\"\"\n",
    "    # compute temperature in physical units using mu=0.615\n",
    "\n",
    "def Source(u):\n",
    "    \"\"\" Add contribution from gravitation with 1/2*dt\n",
    "        The gravitaitonal acceleration is time independent\n",
    "        and stored in the variable u.g.\n",
    "        S(E_tot) = rho vy * g\n",
    "        S(rho vy) = rho g\n",
    "    \"\"\"\n",
    "    u.Etot += 0.5*u.dtds*u.Py*u.g\n",
    "    u.Py   += 0.5*u.dtds*u.rho*u.g\n",
    "\n",
    "def muscl_2d (u, dt, do_grav=True, do_cooling=False):\n",
    "    u.dtds = dt/u.ds\n",
    "    u.dt = dt\n",
    "    Slope=MonCen\n",
    "    Riemann_Solver=HLL\n",
    "\n",
    "    # 0) Add gravity \n",
    "    if do_grav:\n",
    "        Source(u)                          # Add 1/2 source term at time t\n",
    "    \n",
    "    # 1) Compute primitive variables (rho, v, P)\n",
    "    # make sure to copy u.rho to D, otherwise D becomes a \"pointer\" to u.rho, and updates itself in 5)\n",
    "    D = np.copy(u.rho)         # D: density\n",
    "    v = u.velocity()           # v: velocity\n",
    "    P = u.pressure()           # P: pressure\n",
    "\n",
    "    # 2) Compute slopes based on centered points\n",
    "    dD = Slope(D)              # returns (2,n,n)\n",
    "    dP = Slope(P)              # returns (2,n,n)\n",
    "    dv0 = Slope(v[0])          # returns (2,n,n)\n",
    "    dv1 = Slope(v[1])          # returns (2,n,n)\n",
    "    dv = np.array([dv0,dv1])   # shape = (2,2,n,n)\n",
    "\n",
    "    # 3) Trace forward to find solution at [t+dt/2, x +- dx/2]\n",
    "    # Time evolution with source terms\n",
    "    div = dv[0,0] + dv[1,1]                  # div(v)\n",
    "    D_t = - v[0]*dD[0] -v[1]*dD[1] - D*div   # dD/dt = -v*grad(D) - D*div(v)\n",
    "    P_t = - v[0]*dP[0] -v[1]*dP[1] - u.gamma*P*div   # dP/dt = -v*grad(P) - gamma*P*div(v)\n",
    "    v_t = np.copy(v)                         # shape = (2,n,n)\n",
    "    v_t[0] = - v[0]*dv[0,0] - v[1]*dv[0,1] - dP[0]/D  # dv/dt = -v*grad(v) - grad(P)/D\n",
    "    v_t[1] = - v[0]*dv[1,0] - v[1]*dv[1,1] - dP[1]/D\n",
    "    if do_grav:\n",
    "        v_t[1] += u.g*u.ds # have to add ds because slopes are differences without ds\n",
    "    \n",
    "    # Loop over X- and Y-direction\n",
    "    for axis in range(2):\n",
    "        ql = void(); ql.gamma = u.gamma\n",
    "        qr = void(); qr.gamma = u.gamma\n",
    "        \n",
    "        # Calculates the parallel and perpendicular velocities to the coordinate direction\n",
    "        # X-axis: iu=0, iv=1, Y-axis: iu=1, iv=0\n",
    "        iu = axis\n",
    "        iv = (axis + 1) % 2\n",
    "        # Parallel (U) and perpendicular (V) velocities\n",
    "        U = v[iu]; dU = dv[iu]; U_t = v_t[iu]\n",
    "        V = v[iv]; dV = dv[iv]; V_t = v_t[iv]\n",
    "\n",
    "        # 4) Spatial interpolation \"axis\"-direction + time terms\n",
    "\n",
    "        # left state -- AS SEEN FROM THE INTERFACE\n",
    "        ql.D = D + 0.5*dD[axis] + 0.5*u.dtds*D_t\n",
    "        ql.P = P + 0.5*dP[axis] + 0.5*u.dtds*P_t\n",
    "        ql.U = U + 0.5*dU[axis] + 0.5*u.dtds*U_t\n",
    "        ql.V = V + 0.5*dV[axis] + 0.5*u.dtds*V_t\n",
    "\n",
    "        # right state -- AS SEEN FROM THE INTERFACE\n",
    "        qr.D = D - 0.5*dD[axis] + 0.5*u.dtds*D_t\n",
    "        qr.P = P - 0.5*dP[axis] + 0.5*u.dtds*P_t\n",
    "        qr.U = U - 0.5*dU[axis] + 0.5*u.dtds*U_t\n",
    "        qr.V = V - 0.5*dV[axis] + 0.5*u.dtds*V_t\n",
    "\n",
    "        # 5) Roll down -1 in the \"axis\" direction so that we collect\n",
    "        #    left and right state (as seen from the interface) at the same grid index\n",
    "        qr.D = np.roll(qr.D,-1,axis=axis)\n",
    "        qr.P = np.roll(qr.P,-1,axis=axis)\n",
    "        qr.U = np.roll(qr.U,-1,axis=axis)\n",
    "        qr.V = np.roll(qr.V,-1,axis=axis)\n",
    "\n",
    "        # 6) Solve for flux based on interface values\n",
    "        Flux = Riemann_Solver(ql,qr)\n",
    "\n",
    "        # Update conserved variables with fluxes\n",
    "        u.rho  -= u.dtds * (Flux.D - np.roll(Flux.D,1,axis=axis))\n",
    "        u.Etot -= u.dtds * (Flux.Etot - np.roll(Flux.Etot,1,axis=axis))\n",
    "        if axis==0: # X-axis\n",
    "            u.Px   -= u.dtds * (Flux.mU - np.roll(Flux.mU,1,axis=axis))\n",
    "            u.Py   -= u.dtds * (Flux.mV - np.roll(Flux.mV,1,axis=axis))\n",
    "        if axis==1: # Y-axis\n",
    "            u.Px   -= u.dtds * (Flux.mV - np.roll(Flux.mV,1,axis=axis))\n",
    "            u.Py   -= u.dtds * (Flux.mU - np.roll(Flux.mU,1,axis=axis))\n",
    "\n",
    "    # 7) Add gravity \n",
    "    if do_grav:\n",
    "        Source(u)                          # Add 1/2 source term at t + dt\n",
    "    \n",
    "    # 8) Here you could add cooling and heating. Since cooling can be\n",
    "    # stiff -- e.g. immediately forcing the gas to a certain\n",
    "    # temperature -- it is best to do the full heating / cooling contribution\n",
    "    # at the end of a timestep\n",
    "    \n",
    "    if do_cooling:\n",
    "        Source_cooling(u)\n",
    "    \n",
    "    return u"
   ]
  },
  {
   "cell_type": "markdown",
   "metadata": {},
   "source": [
    "# Model setup: a piece of a galactic disk"
   ]
  },
  {
   "cell_type": "markdown",
   "metadata": {},
   "source": [
    "The physical setup is a 2 kpc piece of the galactic disk. We assume that initially the gas is in hydrostatic equilibrium and has an isothermal temperature of $T=10^3$ K. The initial condition can then be specified once we know the gravitational acceleration.\n",
    "\n",
    "### Gravitational Potential\n",
    "For simplicity, we assume that the gravitational acceleration is prescribed, and due to the Dark Matter halo, described by a NFW profile\n",
    "\\begin{equation}\\tag{1}\n",
    "\\rho(R) = \\frac{\\rho_0}{{R\\over R_s}\\left(1 + {R \\over R_s}\\right)^2}\n",
    "\\end{equation}\n",
    "Assuming that $z \\ll R$ this leads to a vertical gravitational acceleration of:\n",
    "\\begin{equation}\\tag{2}\n",
    "g(z) = - \\frac{G M_\\textrm{vir}}{\\ln(1+c) - {c \\over 1+c}} \\frac{\\ln(1 + R / R_s) - R / ( R + R_s )}{R^2} \\frac{z}{R}\\,,\n",
    "\\end{equation}\n",
    "where $g(z)$ is the vertical acceleration, $M_\\textrm{vir}$ is the virial mass of the galaxy, $c = R_\\textrm{vir} / R_s$ is the concentration parameter, $R_s$ the inner radius for the NFW profile, and $R$ is the radius of the piece of the galactic disk. Collecting constant factors, this can be simplified to the relation\n",
    "\\begin{equation}\\tag{3}\n",
    "g(z) = - \\Omega^2 z \\,,\\quad \\Omega^2 = \\frac{G M_\\textrm{vir}}{\\ln(1+c) - {c \\over 1+c}} \\frac{\\ln(1 + R / R_s) - R / ( R + R_s )}{R^3}\\,,\n",
    "\\end{equation}\n",
    "where we see that $\\Omega$ is the rotation frequency at radius $R$."
   ]
  },
  {
   "cell_type": "markdown",
   "metadata": {},
   "source": [
    "### Virial Mass and Radius\n",
    "The concentration parameter (and hence $R_s$) is related to the virial mass as \\[Posti \\& Helmi 2019\\]:\n",
    "\\begin{equation}\\tag{4}\n",
    "\\log_{10} c = 1.025 - 0.097 \\log_{10} \\left(\\frac{M_\\textrm{vir}}{10^{12} h^{-1} M_\\odot}\\right)\\,,\n",
    "\\end{equation}\n",
    "where $h=0.68$ is the Hubble parameter in units of 100 km s$^{-1}$ Mpc$^{-1}$. We use the common assumption that $\\rho_\\textrm{vir} = 200 \\,\\rho_\\textrm{crit}$ is a good approximation for the virial density, where $\\rho_\\textrm{crit} = 3 H^2 / 8 \\pi G = 1.878\\,10^{-29} h^2$ g cm$^{-3} = 2.77\\,10^{-7} h^2$ M$_\\odot$ pc$^{-3}$ is the critical cosmological density. This allow us to derive the virial radius $R_\\textrm{vir}$ from the virial mass of the galaxy by integrating eq (1) and using the relations between $c$, $R_s$, and $R_\\textrm{vir}$ yielding\n",
    "\\begin{equation}\n",
    "\\rho_\\textrm{vir} = 200 \\rho_\\textrm{crit} = \\frac{\\rho_0}{c(1+c)^2}\n",
    "\\end{equation}\n",
    "\\begin{equation}\n",
    "M_\\textrm{vir} = 4 \\pi \\int^{R_\\textrm{vir}}_0 R^2 dR \\rho(R) = 4 \\pi \\rho_0 c^{-3}\\left[ \\ln(1+c) - \\frac{c}{c+1} \\right] R_\\textrm{vir}^3\n",
    "\\end{equation}\n",
    "\n",
    "\n",
    "### Hydrostatic Equilibrium\n",
    "The assumption of hydrostatic equilibrium in the vertical direction allow us to derive a pressure profile using\n",
    "\\begin{equation}\n",
    "\\frac{dP}{dz} = - \\rho g(z) = - \\rho \\Omega^2 z \n",
    "\\end{equation}\n",
    "Adopting initially a constant temperature we have $P = c_s^2 \\rho$, with the isothermal sound speed $c_s^2 = k_B T / \\mu m_p$. This allow us to solve for the density as a function of height\n",
    "\\begin{equation}\n",
    "\\rho(z) = \\frac{\\Sigma}{\\sqrt{2\\pi} H_g}\\exp\\left[-{1\\over 2}\\left(\\frac{z}{H_g}\\right)^2\\right]\\,,\n",
    "\\end{equation}\n",
    "where $H_g = c_s\\, /\\, \\Omega$ is the scale height in the disk, and $\\Sigma = \\int dz\\, \\rho(z)$ is the surface density.\n",
    "\n",
    "### Units\n",
    "The natural units for the problem are\n",
    "* Unit of mass: u_m = 1 solar mass\n",
    "* Unit of length: u_l = 1 parsec\n",
    "* Unit of time: u_t = 1 Myr\n",
    "\n",
    "The relevant derived units are:\n",
    "* Unit of velocity u_v = 1 pc / 1 Myr = 0.977813106 km/s\n",
    "* Unit of density u_d = (solar mass / pc^3) = 6.7702543e-23 g / (cm^3) = 40.4768962 proton mass cm^-3\n",
    "* Energy density u_e = u_m / u_l^3 * (u_l / u_t)^2 = 6.47316519e-13 barye (cgs beware)\n",
    "* Energy u_E = u_m (u_l / u_t)^2 = 1.90181525e36 J\n",
    "\n",
    "### Initial conditions"
   ]
  },
  {
   "cell_type": "code",
   "execution_count": 49,
   "metadata": {},
   "outputs": [],
   "source": [
    "def initial_condition(Lbox=2000, n=128, R0 = 8000, sigma_gas=100, Mvir=1.3e12, h=0.68):\n",
    "    # Lbox is the box size in pc\n",
    "    # n is the numerical resolution in grid poins\n",
    "    # R0 is the radial distance from the center of the galaxy of the box in parsec\n",
    "    # sigma_gas is in units of M_sun / pc^2\n",
    "    # Mvir is the virial mass in the galaxy. 1.3 10^12 Msun is relevant for the Milky Way\n",
    "    # h is the Hubble constant in units of 100 km s^-1 Mpc^-1\n",
    "    \n",
    "    # Basic unit system is u_M = Msun, u_l = 1 pc, u_t = 1 Myr\n",
    "    kms_to_uv = 0.977813106 # (pc/Myr) / (km/s)\n",
    "    \n",
    "    # concentration parameter and virial radius\n",
    "    c = 10**(1.025 - 0.097*np.log10(Mvir * h / 1e12))\n",
    "    rho_crit = 2.7744948e-7 * h**2         # M_sun pc^-3\n",
    "    rho0 = 200. * rho_crit * c * (1+c)**2 # M_sun pc^-3\n",
    "    Rvir = (Mvir*c**3 / (4*np.pi*rho0*(np.log(1+c) - c / (1+c))))**(1/3) # pc\n",
    "    Rs   = Rvir / c\n",
    "    \n",
    "    # rotation frequency [Myr^-1]\n",
    "    Gnewt = 4.49830999e-3 # Newtons constant of gravity in [pc^3 Msun^-1 Myr^-2] \n",
    "    Omega = np.sqrt( Gnewt * Mvir / (np.log(1+c) - c / (1+c)) * (np.log(1 + R0/Rs) - R0 / (R0 + Rs)) / R0**3 )\n",
    "    \n",
    "    # setup initial grid\n",
    "    u = hd(n=n, gamma=5/3, Lbox=Lbox)\n",
    "    \n",
    "    # compute new density and energy profile\n",
    "    Tini = 1e3\n",
    "    cs = 11.585 * np.sqrt( Tini / 1e4 ) * kms_to_uv # sound speed [pc/Myr] for a fully ionized medium with mu = 0.615\n",
    "    Hgas = cs / Omega\n",
    "    \n",
    "    u.g = np.zeros((n,n)) # array holding gravitational acceleration\n",
    "    \n",
    "    for iy,y in enumerate(u.y):\n",
    "        u.rho[:,iy] = sigma_gas / (np.sqrt(2.*np.pi) * Hgas) * np.exp(-0.5 * (y / Hgas)**2) \n",
    "        u.g[:,iy] = - Omega**2 * y\n",
    "        \n",
    "    P = u.rho * cs**2\n",
    "    u.Etot = P / (u.gamma - 1)\n",
    "    \n",
    "    u.Mvir = Mvir\n",
    "    u.Rvir = Rvir\n",
    "    u.rho0 = rho0\n",
    "    u.c = c\n",
    "    u.cs = cs\n",
    "    u.Hgas = Hgas\n",
    "    u.Omega = Omega\n",
    "    \n",
    "    return u"
   ]
  },
  {
   "cell_type": "markdown",
   "metadata": {},
   "source": [
    "### Testing the initial conditions"
   ]
  },
  {
   "cell_type": "code",
   "execution_count": 50,
   "metadata": {},
   "outputs": [],
   "source": [
    "def imshow(f,size=10,x=None):\n",
    "    plt.figure(figsize=(size,size))\n",
    "    if x == None:\n",
    "        plt.imshow(np.transpose(f),origin='lower')\n",
    "    else:\n",
    "        plt.imshow(np.transpose(f),origin='lower',extent=[-x,x,-x,x])\n",
    "    plt.colorbar();"
   ]
  },
  {
   "cell_type": "code",
   "execution_count": 51,
   "metadata": {},
   "outputs": [
    {
     "name": "stdout",
     "output_type": "stream",
     "text": [
      "Central density: 0.037781560488512805\n",
      "Scale height  : 125.94980611630628\n",
      "1 / Omega     : 35.15973646241477\n",
      "Virial radius : 129683.32734664268\n",
      "Concentration parameter : 10.719983830625154\n",
      "Mass in box [Msun] 3124999.999999994\n"
     ]
    },
    {
     "data": {
      "image/png": "[encoded data removed]",
      "text/plain": [
       "<Figure size 432x288 with 1 Axes>"
      ]
     },
     "metadata": {
      "needs_background": "light"
     },
     "output_type": "display_data"
    },
    {
     "data": {
      "image/png": "[encoded data removed]",
      "text/plain": [
       "<Figure size 432x288 with 1 Axes>"
      ]
     },
     "metadata": {
      "needs_background": "light"
     },
     "output_type": "display_data"
    },
    {
     "data": {
      "image/png": "[encoded data removed]",
      "text/plain": [
       "<Figure size 432x288 with 1 Axes>"
      ]
     },
     "metadata": {
      "needs_background": "light"
     },
     "output_type": "display_data"
    }
   ],
   "source": [
    "u = initial_condition(n=128)\n",
    "print(\"Central density:\", u.rho0)\n",
    "print(\"Scale height  :\", u.Hgas)\n",
    "print(\"1 / Omega     :\", 1. / u.Omega)\n",
    "print(\"Virial radius :\", u.Rvir)\n",
    "print(\"Concentration parameter :\", u.c)\n",
    "print(\"Mass in box [Msun]\", np.sum(u.rho)*u.ds**3)\n",
    "plt.figure()\n",
    "plt.plot(u.y,u.rho[0])\n",
    "plt.show()\n",
    "plt.figure()\n",
    "plt.plot(u.y,u.Etot[0])\n",
    "plt.show()\n",
    "plt.figure()\n",
    "P = (u.pressure())[0]\n",
    "dPdy = 0.5*(np.roll(P,-1) - np.roll(P,+1))/u.ds\n",
    "plt.plot(u.y,-dPdy/u.rho[0]*u.ds,label='-dP')\n",
    "plt.plot(u.y,u.g[0]*u.ds,label='grav')\n",
    "plt.plot(u.y,(u.g[0] - dPdy/u.rho[0])*u.ds,label='grav - dP')\n",
    "plt.legend();\n"
   ]
  },
  {
   "cell_type": "code",
   "execution_count": 52,
   "metadata": {},
   "outputs": [
    {
     "data": {
      "text/plain": [
       "array([[0., 0., 0., ..., 0., 0., 0.],\n",
       "       [0., 0., 0., ..., 0., 0., 0.],\n",
       "       [0., 0., 0., ..., 0., 0., 0.],\n",
       "       ...,\n",
       "       [0., 0., 0., ..., 0., 0., 0.],\n",
       "       [0., 0., 0., ..., 0., 0., 0.],\n",
       "       [0., 0., 0., ..., 0., 0., 0.]])"
      ]
     },
     "execution_count": 52,
     "metadata": {},
     "output_type": "execute_result"
    }
   ],
   "source": [
    "u."
   ]
  },
  {
   "cell_type": "markdown",
   "metadata": {},
   "source": [
    "### Blast wave function"
   ]
  },
  {
   "cell_type": "markdown",
   "metadata": {},
   "source": [
    "### Here we add the blastwave with the following shape\n",
    "\n",
    "\\begin{equation}\\tag{5}\n",
    "f(r) = 1 + A \\,\\left(\\frac{3}{w}\\right)^2 e^{-\\left(\\frac{r}{w\\Delta r}\\right)^p}\n",
    "\\end{equation}"
   ]
  },
  {
   "cell_type": "code",
   "execution_count": 53,
   "metadata": {},
   "outputs": [],
   "source": [
    "#doing this as a class instead of a function, or maybe not\n",
    "def blast_wave(u,gamma=1.4,e0=1e3,d0=1.0,power=2,w=3.,eps=0.01):\n",
    "#         n=u.n\n",
    "        factor = (3./w)**2\n",
    "        u.rho  += d0*factor*np.exp(-(u.r/(w*u.ds))**power)\n",
    "        u.Etot = 1.0 + e0*factor*np.exp(-(u.r/(w*u.ds))**power)"
   ]
  },
  {
   "cell_type": "code",
   "execution_count": 56,
   "metadata": {},
   "outputs": [
    {
     "name": "stdout",
     "output_type": "stream",
     "text": [
      "12.1 sec, 0.74 microseconds/update\n",
      "t=1.6900893284743108 nt=1000\n"
     ]
    },
    {
     "data": {
      "image/png": "[encoded data removed]",
      "text/plain": [
       "<Figure size 1152x720 with 1 Axes>"
      ]
     },
     "metadata": {
      "needs_background": "light"
     },
     "output_type": "display_data"
    },
    {
     "data": {
      "image/png": "[encoded data removed]",
      "text/plain": [
       "<Figure size 720x720 with 2 Axes>"
      ]
     },
     "metadata": {
      "needs_background": "light"
     },
     "output_type": "display_data"
    },
    {
     "data": {
      "image/png": "[encoded data removed]",
      "text/plain": [
       "<Figure size 720x720 with 2 Axes>"
      ]
     },
     "metadata": {
      "needs_background": "light"
     },
     "output_type": "display_data"
    }
   ],
   "source": [
    "Lbox = 2e3\n",
    "n = 128\n",
    "Cdt = 0.5\n",
    "nt = 1000\n",
    "u = initial_condition(n=n, Lbox=Lbox)\n",
    "u.rho_out = u.rho[0,0]\n",
    "u.P_out = (u.pressure())[0,0]\n",
    "start = time()\n",
    "it=0\n",
    "plt.figure(figsize=(16,10))\n",
    "plt.plot(u.y,u.rho[0],label='rho0')\n",
    "dt_plot = 1.0\n",
    "t_plot = 0.\n",
    "dt_SN = 0.2\n",
    "t_SN = 0.\n",
    "while u.t < 10 and it < nt:\n",
    "    dt=u.Courant(Cdt)\n",
    "    u = muscl_2d(u,dt)\n",
    "    # Boundary conditions at upper and lower end of box:\n",
    "    u.rho[:,0] = u.rho[:,-1] = u.rho_out\n",
    "    u.Px[:,0] = u.Px[:,-1] = 0.\n",
    "    u.Py[:,0] = u.Py[:,-1] = 0.\n",
    "    u.Etot[:,0] = u.Etot[:,-1] = u.P_out / (u.gamma - 1.)\n",
    "    u.t += dt\n",
    "    it+=1\n",
    "    #plt.figure()\n",
    "    if (u.t - t_plot > dt_plot):\n",
    "        #plt.plot(u.y,np.mean(u.Py,axis=0),label='t = {}'.format(u.t))\n",
    "        #plt.plot(u.y,np.mean(u.rho,axis=0),label='')\n",
    "        imshow(u.rho)\n",
    "#         print(\"t={} P={} M={}\".format(u.t,np.sum(u.pressure())),np.sum(u.rho)*u.ds**3)\n",
    "        t_plot += dt_plot\n",
    "    if (u.t - t_SN > dt_SN or True):\n",
    "        blast_wave(u,e0=1e4,d0=1,power=2,w=3.)\n",
    "        t_SN += dt_SN\n",
    "\n",
    "#plt.legend()\n",
    "used=time()-start\n",
    "print('{:.1f} sec, {:.2f} microseconds/update'.format(used,1e6*used/(n**2*it)))\n",
    "print(\"t={} nt={}\".format(u.t,it))\n",
    "imshow(np.log10(u.rho))"
   ]
  },
  {
   "cell_type": "code",
   "execution_count": 37,
   "metadata": {},
   "outputs": [
    {
     "data": {
      "text/plain": [
       "-3.7005005394694312"
      ]
     },
     "execution_count": 37,
     "metadata": {},
     "output_type": "execute_result"
    }
   ],
   "source": [
    "np.min(u.pressure())"
   ]
  },
  {
   "cell_type": "code",
   "execution_count": 40,
   "metadata": {},
   "outputs": [
    {
     "data": {
      "text/plain": [
       "-5.550750809204146"
      ]
     },
     "execution_count": 40,
     "metadata": {},
     "output_type": "execute_result"
    }
   ],
   "source": [
    "np.min(u.Etot - 0.5*(u.Px**2 + u.Py**2)/u.rho )"
   ]
  },
  {
   "cell_type": "code",
   "execution_count": 42,
   "metadata": {},
   "outputs": [
    {
     "data": {
      "text/plain": [
       "1.9459594689067654"
      ]
     },
     "execution_count": 42,
     "metadata": {},
     "output_type": "execute_result"
    }
   ],
   "source": [
    "np.max(u.rho)"
   ]
  },
  {
   "cell_type": "code",
   "execution_count": null,
   "metadata": {},
   "outputs": [],
   "source": [
    "np.shape(u.rho)"
   ]
  },
  {
   "cell_type": "code",
   "execution_count": 13,
   "metadata": {},
   "outputs": [
    {
     "data": {
      "image/png": "[encoded data removed]",
      "text/plain": [
       "<Figure size 720x720 with 2 Axes>"
      ]
     },
     "metadata": {
      "needs_background": "light"
     },
     "output_type": "display_data"
    }
   ],
   "source": [
    "imshow(np.maximum(np.log10(u.rho),-4),x=u.Lbox*0.5)"
   ]
  },
  {
   "cell_type": "code",
   "execution_count": 15,
   "metadata": {},
   "outputs": [
    {
     "data": {
      "image/png": "[encoded data removed]",
      "text/plain": [
       "<Figure size 720x720 with 2 Axes>"
      ]
     },
     "metadata": {
      "needs_background": "light"
     },
     "output_type": "display_data"
    }
   ],
   "source": [
    "imshow(np.log10(u.rho),x=u.Lbox*0.5)"
   ]
  },
  {
   "cell_type": "markdown",
   "metadata": {},
   "source": [
    "# Blast Wave in 2-D"
   ]
  },
  {
   "cell_type": "markdown",
   "metadata": {},
   "source": [
    "Releasing a large amount of energy into a background fluid creates an explosion characterized by a strong shock wave, which then expands radially outwards from the point where the energy was released. In astrophysics, this happens, for example, in the case of supernovae. This is called a Sedov-Taylor blast wave. Sedov and Taylor first solved the problem in the context of atomic bomb explosions, but the solution is also useful in astrophysics. It can be used to test and validate hydrodynamical computer codes since an analytical solution exists. Blast waves are good candidates for adaptive mesh refinement (AMR) technique, that you read about in the book, but they can also be resolved with a uniform grid that we will use in the exam project. Add a function `blast_wave` that you can call in the time evolution loop. Use what you implemented in week 2, but update it to have a random position in $x$ and a position in $y$ that correlates with the disk height. Hint: a hydrostatic disk has a density profile which follows $\\exp(-y^2/2H^2)$, this is a well known function for random variables. Remember that the box is periodic in the x-direction. Therefore a \"radius function\" for depositing energy and mass should also be periodic in that direction. If you integrate over your energy deposition profile and your mass profile (and remember to convert to physical units) you can aim for having 10 solar masses and $10^{44}$ J (or one foe) depositied in each explosion."
   ]
  },
  {
   "cell_type": "code",
   "execution_count": null,
   "metadata": {},
   "outputs": [],
   "source": []
  }
 ],
 "metadata": {
  "kernelspec": {
   "display_name": "Python 3",
   "language": "python",
   "name": "python3"
  },
  "language_info": {
   "codemirror_mode": {
    "name": "ipython",
    "version": 3
   },
   "file_extension": ".py",
   "mimetype": "text/x-python",
   "name": "python",
   "nbconvert_exporter": "python",
   "pygments_lexer": "ipython3",
   "version": "3.7.6"
  }
 },
 "nbformat": 4,
 "nbformat_minor": 4
}
