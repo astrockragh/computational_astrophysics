{
 "cells": [
  {
   "cell_type": "code",
   "execution_count": 2,
   "metadata": {
    "ExecuteTime": {
     "end_time": "2021-01-19T12:43:23.603773Z",
     "start_time": "2021-01-19T12:43:22.416445Z"
    }
   },
   "outputs": [],
   "source": [
    "import numpy as np\n",
    "import matplotlib.pyplot as plt\n",
    "from scipy.stats import rv_continuous, rv_discrete"
   ]
  },
  {
   "cell_type": "code",
   "execution_count": 3,
   "metadata": {
    "ExecuteTime": {
     "end_time": "2021-01-19T13:14:24.750615Z",
     "start_time": "2021-01-19T13:14:24.745626Z"
    }
   },
   "outputs": [],
   "source": [
    "class chabrier(rv_continuous):\n",
    "    def _pdf(self,m):\n",
    "        '''Note that the masses are in M_solar'''\n",
    "        k=0.158*1/(np.log(10))*np.exp(-(np.log(1/0.08))**2/(2*0.69**2))\n",
    "        return np.where(m<1, 0.158*1/(np.log(10)*m)*np.exp(-(np.log(m/0.08))**2/(2*0.69**2)), k*m**(-2.3))"
   ]
  },
  {
   "cell_type": "code",
   "execution_count": 4,
   "metadata": {
    "ExecuteTime": {
     "end_time": "2021-01-19T13:41:37.211881Z",
     "start_time": "2021-01-19T13:41:37.202907Z"
    }
   },
   "outputs": [],
   "source": [
    "#the lower/upper limits of the distribution\n",
    "a=0.5\n",
    "b=200\n",
    "IMF=chabrier(a=a, b=b)"
   ]
  },
  {
   "cell_type": "code",
   "execution_count": 5,
   "metadata": {
    "ExecuteTime": {
     "end_time": "2021-01-19T13:41:38.815222Z",
     "start_time": "2021-01-19T13:41:37.925400Z"
    }
   },
   "outputs": [
    {
     "data": {
      "text/plain": [
       "[<matplotlib.lines.Line2D at 0x7f45143c6950>]"
      ]
     },
     "execution_count": 5,
     "metadata": {},
     "output_type": "execute_result"
    },
    {
     "data": {
      "image/png": "[encoded data removed]",
      "text/plain": [
       "<Figure size 432x288 with 1 Axes>"
      ]
     },
     "metadata": {
      "needs_background": "light"
     },
     "output_type": "display_data"
    }
   ],
   "source": [
    "m=np.logspace(np.log10(a), np.log10(b), 100000)\n",
    "spec=IMF.pdf(m)\n",
    "plt.loglog(m, spec)\n",
    "# plt.plot(m, IMF.logpdf(m))"
   ]
  },
  {
   "cell_type": "code",
   "execution_count": 6,
   "metadata": {
    "ExecuteTime": {
     "end_time": "2021-01-19T13:41:39.772744Z",
     "start_time": "2021-01-19T13:41:39.768756Z"
    }
   },
   "outputs": [],
   "source": [
    "spec=spec/np.sum(spec)"
   ]
  },
  {
   "cell_type": "code",
   "execution_count": 7,
   "metadata": {
    "ExecuteTime": {
     "end_time": "2021-01-19T14:01:45.445286Z",
     "start_time": "2021-01-19T14:01:45.438271Z"
    }
   },
   "outputs": [
    {
     "data": {
      "text/plain": [
       "array([0.53872357])"
      ]
     },
     "execution_count": 7,
     "metadata": {},
     "output_type": "execute_result"
    }
   ],
   "source": [
    "np.random.choice(m, p=spec, size=1)"
   ]
  },
  {
   "cell_type": "markdown",
   "metadata": {},
   "source": [
    " ### Animation from here on out"
   ]
  },
  {
   "cell_type": "code",
   "execution_count": 3,
   "metadata": {
    "ExecuteTime": {
     "end_time": "2021-01-19T16:51:26.975717Z",
     "start_time": "2021-01-19T16:51:25.696530Z"
    }
   },
   "outputs": [],
   "source": [
    "import matplotlib\n",
    "matplotlib.use(\"Agg\")\n",
    "import matplotlib.animation as anim\n",
    " \n",
    "class AnimatedGif:\n",
    "    def __init__(self, size=(640, 480)):\n",
    "        self.fig = plt.figure()\n",
    "        self.fig.set_size_inches(size[0] / 100, size[1] / 100)\n",
    "        ax = self.fig.add_axes([0, 0, 1, 1], frameon=False, aspect=1)\n",
    "        ax.set_xticks([])\n",
    "        ax.set_yticks([])\n",
    "        self.images = []\n",
    " \n",
    "    def add(self, image, label=''):\n",
    "        plt_im = plt.imshow(image, cmap='Greys', vmin=0, vmax=1, animated=True)\n",
    "        plt_txt = plt.text(10, 310, label, color='red')\n",
    "        self.images.append([plt_im, plt_txt])\n",
    " \n",
    "    def save(self, filename):\n",
    "        im_ani = anim.ArtistAnimation(self.fig, self.images)\n",
    "        Writer = anim.writers['pillow'] # for .gif\n",
    "#         Writer = anim.writers['html'] # for .html, do not use\n",
    "        writer = Writer(fps=4, bitrate=1800)\n",
    "        im_ani.save(filename, writer=writer)\n",
    "        \n",
    "m = 480\n",
    "n = 320\n",
    "x = np.linspace(-2, 1, num=m).reshape((1, m))\n",
    "y = np.linspace(-1, 1, num=n).reshape((n, 1))\n",
    "C = np.tile(x, (n, 1)) + 1j * np.tile(y, (1, m))\n",
    "Z = np.zeros((n, m), dtype=complex)\n",
    "M = np.full((n, m), True, dtype=bool)\n",
    " \n",
    "animated_gif = AnimatedGif(size=(m, n))\n",
    "animated_gif.add(M, label='0')\n",
    "# images = []\n",
    "for i in range(1, 151):\n",
    "    Z[M] = Z[M] * Z[M] + C[M]\n",
    "    M[np.abs(Z) > 2] = False\n",
    "    if i <= 15 or not (i % 100):\n",
    "        animated_gif.add(M, label=str(i))\n",
    "        \n",
    "# filename\n",
    "animated_gif.save('mov/mandelbrot.gif')"
   ]
  },
  {
   "cell_type": "code",
   "execution_count": null,
   "metadata": {},
   "outputs": [],
   "source": []
  }
 ],
 "metadata": {
  "hide_input": false,
  "kernelspec": {
   "display_name": "Python 3",
   "language": "python",
   "name": "python3"
  },
  "language_info": {
   "codemirror_mode": {
    "name": "ipython",
    "version": 3
   },
   "file_extension": ".py",
   "mimetype": "text/x-python",
   "name": "python",
   "nbconvert_exporter": "python",
   "pygments_lexer": "ipython3",
   "version": "3.7.6"
  }
 },
 "nbformat": 4,
 "nbformat_minor": 4
}
